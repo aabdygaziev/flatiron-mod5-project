{
 "cells": [
  {
   "cell_type": "markdown",
   "metadata": {},
   "source": [
    "# Dataset #\n",
    "**Size:**\n",
    "* 70,000 instances\n",
    "* 12 features\n",
    "\n",
    "**Features:**\n",
    "\n",
    "* Age | Objective Feature | age | int (days)\n",
    "* Height | Objective Feature | height | int (cm) |\n",
    "* Weight | Objective Feature | weight | float (kg) |\n",
    "* Gender | Objective Feature | gender | categorical code |\n",
    "* Systolic blood pressure | Examination Feature | ap_hi | int |\n",
    "* Diastolic blood pressure | Examination Feature | ap_lo | int |\n",
    "* Cholesterol | Examination Feature | cholesterol | 1: normal, 2: above normal, 3: well above normal |\n",
    "* Glucose | Examination Feature | gluc | 1: normal, 2: above normal, 3: well above normal |\n",
    "* Smoking | Subjective Feature | smoke | binary |\n",
    "* Alcohol intake | Subjective Feature | alco | binary |\n",
    "* Physical activity | Subjective Feature | active | binary |\n",
    "* Presence or absence of cardiovascular disease | Target Variable | cardio | binary |"
   ]
  },
  {
   "cell_type": "code",
   "execution_count": 201,
   "metadata": {},
   "outputs": [],
   "source": [
    "#importing packages\n",
    "import pandas as pd\n",
    "import numpy as np\n",
    "\n",
    "from sklearn.preprocessing import StandardScaler\n",
    "from sklearn.linear_model import LogisticRegression\n",
    "from sklearn.linear_model import SGDClassifier\n",
    "from sklearn.tree import DecisionTreeClassifier\n",
    "from sklearn.svm import LinearSVC\n",
    "from sklearn.linear_model import SGDClassifier\n",
    "from sklearn.naive_bayes import GaussianNB\n",
    "from sklearn.neighbors import KNeighborsClassifier\n",
    "from sklearn.ensemble import RandomForestClassifier\n",
    "from sklearn.model_selection import cross_val_score\n",
    "from sklearn.model_selection import GridSearchCV\n",
    "from sklearn.ensemble import ExtraTreesClassifier\n",
    "\n",
    "from sklearn.model_selection import train_test_split\n",
    "from sklearn.metrics import accuracy_score,f1_score,roc_auc_score\n",
    "from sklearn.metrics import confusion_matrix, precision_score, recall_score,roc_curve, auc\n",
    "\n",
    "import seaborn as sns\n",
    "import matplotlib.pyplot as plt\n",
    "%matplotlib inline\n",
    "\n",
    "import warnings\n",
    "warnings.filterwarnings('ignore')"
   ]
  },
  {
   "cell_type": "code",
   "execution_count": 137,
   "metadata": {},
   "outputs": [
    {
     "data": {
      "text/plain": [
       "(70000, 13)"
      ]
     },
     "execution_count": 137,
     "metadata": {},
     "output_type": "execute_result"
    }
   ],
   "source": [
    "df = pd.read_csv('cardio_train.csv',delimiter=';')\n",
    "df.shape"
   ]
  },
  {
   "cell_type": "code",
   "execution_count": 138,
   "metadata": {},
   "outputs": [
    {
     "name": "stdout",
     "output_type": "stream",
     "text": [
      "size:  (70000, 13)\n",
      "<class 'pandas.core.frame.DataFrame'>\n",
      "RangeIndex: 70000 entries, 0 to 69999\n",
      "Data columns (total 13 columns):\n",
      "id             70000 non-null int64\n",
      "age            70000 non-null int64\n",
      "gender         70000 non-null int64\n",
      "height         70000 non-null int64\n",
      "weight         70000 non-null float64\n",
      "ap_hi          70000 non-null int64\n",
      "ap_lo          70000 non-null int64\n",
      "cholesterol    70000 non-null int64\n",
      "gluc           70000 non-null int64\n",
      "smoke          70000 non-null int64\n",
      "alco           70000 non-null int64\n",
      "active         70000 non-null int64\n",
      "cardio         70000 non-null int64\n",
      "dtypes: float64(1), int64(12)\n",
      "memory usage: 6.9 MB\n",
      "info: None\n",
      "null values: False\n"
     ]
    }
   ],
   "source": [
    "# data exploration\n",
    "print('size: ',df.shape)\n",
    "print('info:',df.info())\n",
    "print('null values:',df.isnull().values.any())"
   ]
  },
  {
   "cell_type": "code",
   "execution_count": null,
   "metadata": {},
   "outputs": [],
   "source": []
  },
  {
   "cell_type": "markdown",
   "metadata": {},
   "source": [
    "**Removing Outliers**"
   ]
  },
  {
   "cell_type": "code",
   "execution_count": 139,
   "metadata": {},
   "outputs": [],
   "source": [
    "# dropping unnecessary columns\n",
    "df.drop('id',axis=1,inplace=True)"
   ]
  },
  {
   "cell_type": "code",
   "execution_count": 140,
   "metadata": {},
   "outputs": [
    {
     "data": {
      "text/plain": [
       "1234"
      ]
     },
     "execution_count": 140,
     "metadata": {},
     "output_type": "execute_result"
    }
   ],
   "source": [
    "df[df['ap_lo'] > df['ap_hi']].shape[0]"
   ]
  },
  {
   "cell_type": "code",
   "execution_count": 141,
   "metadata": {},
   "outputs": [
    {
     "data": {
      "text/plain": [
       "(1537, 12)"
      ]
     },
     "execution_count": 141,
     "metadata": {},
     "output_type": "execute_result"
    }
   ],
   "source": [
    "df[(df['height'] < df['height'].quantile(0.025))].shape"
   ]
  },
  {
   "cell_type": "code",
   "execution_count": 142,
   "metadata": {},
   "outputs": [
    {
     "data": {
      "text/plain": [
       "(1439, 12)"
      ]
     },
     "execution_count": 142,
     "metadata": {},
     "output_type": "execute_result"
    }
   ],
   "source": [
    "df[(df['height'] > df['height'].quantile(0.975))].shape"
   ]
  },
  {
   "cell_type": "code",
   "execution_count": 143,
   "metadata": {},
   "outputs": [
    {
     "data": {
      "text/plain": [
       "(1114, 12)"
      ]
     },
     "execution_count": 143,
     "metadata": {},
     "output_type": "execute_result"
    }
   ],
   "source": [
    "df[(df['ap_hi']>df['ap_hi'].quantile(0.975))].shape"
   ]
  },
  {
   "cell_type": "markdown",
   "metadata": {},
   "source": [
    "* Remove outliers in height, weight that fall below 2.5% and above 97.5%\n",
    "* Remove outliers, where diastolic pressure is higher than systolic, which is incorrect"
   ]
  },
  {
   "cell_type": "code",
   "execution_count": 144,
   "metadata": {},
   "outputs": [],
   "source": [
    "# height, weight\n",
    "df.drop(df[(df['height'] > df['height'].quantile(0.975)) \n",
    "           | (df['height'] < df['height'].quantile(0.025))].index,inplace=True)\n",
    "df.drop(df[(df['weight'] > df['weight'].quantile(0.975)) \n",
    "           | (df['weight'] < df['weight'].quantile(0.025))].index, inplace=True)"
   ]
  },
  {
   "cell_type": "code",
   "execution_count": 145,
   "metadata": {},
   "outputs": [],
   "source": [
    "# blood pressure\n",
    "df.drop(df[(df['ap_hi'] > df['ap_hi'].quantile(0.975)) \n",
    "           | (df['ap_hi'] < df['ap_hi'].quantile(0.025))].index,inplace=True)\n",
    "df.drop(df[(df['ap_lo'] > df['ap_lo'].quantile(0.975)) \n",
    "           | (df['ap_lo'] < df['ap_lo'].quantile(0.025))].index,inplace=True)"
   ]
  },
  {
   "cell_type": "code",
   "execution_count": 146,
   "metadata": {},
   "outputs": [
    {
     "data": {
      "text/plain": [
       "(60142, 12)"
      ]
     },
     "execution_count": 146,
     "metadata": {},
     "output_type": "execute_result"
    }
   ],
   "source": [
    "df.shape"
   ]
  },
  {
   "cell_type": "code",
   "execution_count": 147,
   "metadata": {},
   "outputs": [
    {
     "data": {
      "image/png": "[encoded data removed]",
      "text/plain": [
       "<Figure size 432x288 with 12 Axes>"
      ]
     },
     "metadata": {
      "needs_background": "light"
     },
     "output_type": "display_data"
    }
   ],
   "source": [
    "# data contains a lot of binary features\n",
    "df.hist()\n",
    "plt.show()"
   ]
  },
  {
   "cell_type": "code",
   "execution_count": 148,
   "metadata": {},
   "outputs": [],
   "source": [
    "# new feature BMI index\n",
    "df['bmi'] = df['weight']/((df['height']/100)**2)"
   ]
  },
  {
   "cell_type": "code",
   "execution_count": 209,
   "metadata": {},
   "outputs": [
    {
     "data": {
      "text/html": [
       "<div>\n",
       "<style scoped>\n",
       "    .dataframe tbody tr th:only-of-type {\n",
       "        vertical-align: middle;\n",
       "    }\n",
       "\n",
       "    .dataframe tbody tr th {\n",
       "        vertical-align: top;\n",
       "    }\n",
       "\n",
       "    .dataframe thead th {\n",
       "        text-align: right;\n",
       "    }\n",
       "</style>\n",
       "<table border=\"1\" class=\"dataframe\">\n",
       "  <thead>\n",
       "    <tr style=\"text-align: right;\">\n",
       "      <th></th>\n",
       "      <th>age</th>\n",
       "      <th>gender</th>\n",
       "      <th>height</th>\n",
       "      <th>weight</th>\n",
       "      <th>ap_hi</th>\n",
       "      <th>ap_lo</th>\n",
       "      <th>cholesterol</th>\n",
       "      <th>gluc</th>\n",
       "      <th>smoke</th>\n",
       "      <th>alco</th>\n",
       "      <th>active</th>\n",
       "      <th>cardio</th>\n",
       "      <th>bmi</th>\n",
       "      <th>years</th>\n",
       "    </tr>\n",
       "  </thead>\n",
       "  <tbody>\n",
       "    <tr>\n",
       "      <td>0</td>\n",
       "      <td>18393</td>\n",
       "      <td>2</td>\n",
       "      <td>168</td>\n",
       "      <td>62.0</td>\n",
       "      <td>110</td>\n",
       "      <td>80</td>\n",
       "      <td>1</td>\n",
       "      <td>1</td>\n",
       "      <td>0</td>\n",
       "      <td>0</td>\n",
       "      <td>1</td>\n",
       "      <td>0</td>\n",
       "      <td>21.967120</td>\n",
       "      <td>50</td>\n",
       "    </tr>\n",
       "    <tr>\n",
       "      <td>1</td>\n",
       "      <td>20228</td>\n",
       "      <td>1</td>\n",
       "      <td>156</td>\n",
       "      <td>85.0</td>\n",
       "      <td>140</td>\n",
       "      <td>90</td>\n",
       "      <td>3</td>\n",
       "      <td>1</td>\n",
       "      <td>0</td>\n",
       "      <td>0</td>\n",
       "      <td>1</td>\n",
       "      <td>1</td>\n",
       "      <td>34.927679</td>\n",
       "      <td>55</td>\n",
       "    </tr>\n",
       "    <tr>\n",
       "      <td>2</td>\n",
       "      <td>18857</td>\n",
       "      <td>1</td>\n",
       "      <td>165</td>\n",
       "      <td>64.0</td>\n",
       "      <td>130</td>\n",
       "      <td>70</td>\n",
       "      <td>3</td>\n",
       "      <td>1</td>\n",
       "      <td>0</td>\n",
       "      <td>0</td>\n",
       "      <td>0</td>\n",
       "      <td>1</td>\n",
       "      <td>23.507805</td>\n",
       "      <td>52</td>\n",
       "    </tr>\n",
       "  </tbody>\n",
       "</table>\n",
       "</div>"
      ],
      "text/plain": [
       "     age  gender  height  weight  ap_hi  ap_lo  cholesterol  gluc  smoke  \\\n",
       "0  18393       2     168    62.0    110     80            1     1      0   \n",
       "1  20228       1     156    85.0    140     90            3     1      0   \n",
       "2  18857       1     165    64.0    130     70            3     1      0   \n",
       "\n",
       "   alco  active  cardio        bmi  years  \n",
       "0     0       1       0  21.967120     50  \n",
       "1     0       1       1  34.927679     55  \n",
       "2     0       0       1  23.507805     52  "
      ]
     },
     "execution_count": 209,
     "metadata": {},
     "output_type": "execute_result"
    }
   ],
   "source": [
    "df.head(3)"
   ]
  },
  {
   "cell_type": "code",
   "execution_count": 132,
   "metadata": {},
   "outputs": [],
   "source": [
    "# corr = df.corr()\n",
    "# cmap = sns.diverging_palette(220,10,as_cmap=True)\n",
    "# mask = np.zeros_like(corr,dtype=np.bool)\n",
    "# mask[np.triu_indices_from(mask)]=True\n",
    "\n",
    "# f, ax = plt.subplots(figsize=(11,9))\n",
    "# sns.heatmap(corr,mask=mask,cmap=cmap,vmax=0.3,center=0,annot=True, \n",
    "#             square=True,linewidth=0.5,cbar_kws={'shrink':0.5});\n",
    "\n",
    "# # plt.savefig('correlation_heatmap.png')"
   ]
  },
  {
   "cell_type": "code",
   "execution_count": 211,
   "metadata": {},
   "outputs": [
    {
     "data": {
      "image/png": "[encoded data removed]",
      "text/plain": [
       "<Figure size 792x576 with 1 Axes>"
      ]
     },
     "metadata": {
      "needs_background": "light"
     },
     "output_type": "display_data"
    }
   ],
   "source": [
    "from matplotlib import rcParams\n",
    "rcParams['figure.figsize'] = 11, 8\n",
    "df['years'] = (df['age'] / 365).round().astype('int')\n",
    "sns.countplot(x='years', hue='cardio', data = df, palette=\"Set2\");\n",
    "# plt.savefig('age_cdv.png')\n",
    "plt.show()"
   ]
  },
  {
   "cell_type": "code",
   "execution_count": 212,
   "metadata": {},
   "outputs": [
    {
     "data": {
      "image/png": "[encoded data removed]",
      "text/plain": [
       "<Figure size 762.375x360 with 2 Axes>"
      ]
     },
     "metadata": {
      "needs_background": "light"
     },
     "output_type": "display_data"
    }
   ],
   "source": [
    "df_long = pd.melt(df, id_vars=['cardio'], value_vars=['cholesterol','gluc', 'smoke', 'alco', 'active'])\n",
    "sns.catplot(x=\"variable\", hue=\"value\", col=\"cardio\",\n",
    "                data=df_long, kind=\"count\");\n",
    "# plt.savefig('binary_features.png')"
   ]
  },
  {
   "cell_type": "code",
   "execution_count": 213,
   "metadata": {},
   "outputs": [],
   "source": [
    "y = df['cardio']\n",
    "X = df.drop('cardio',axis=1)"
   ]
  },
  {
   "cell_type": "code",
   "execution_count": 114,
   "metadata": {},
   "outputs": [
    {
     "data": {
      "text/plain": [
       "<matplotlib.axes._subplots.AxesSubplot at 0x1a2a9b9410>"
      ]
     },
     "execution_count": 114,
     "metadata": {},
     "output_type": "execute_result"
    },
    {
     "data": {
      "image/png": "[encoded data removed]",
      "text/plain": [
       "<Figure size 792x576 with 1 Axes>"
      ]
     },
     "metadata": {
      "needs_background": "light"
     },
     "output_type": "display_data"
    }
   ],
   "source": [
    "# we have pretty balanced dataset\n",
    "sns.countplot(y)\n",
    "# plt.savefig('balanced.png')"
   ]
  },
  {
   "cell_type": "code",
   "execution_count": 214,
   "metadata": {},
   "outputs": [],
   "source": [
    "# splitting the data\n",
    "X_train,X_test,y_train,y_test = train_test_split(X,y,test_size=0.25,random_state=1)"
   ]
  },
  {
   "cell_type": "code",
   "execution_count": 216,
   "metadata": {},
   "outputs": [],
   "source": [
    "X_train.drop('age',axis=1,inplace=True)"
   ]
  },
  {
   "cell_type": "code",
   "execution_count": 217,
   "metadata": {},
   "outputs": [],
   "source": [
    "# feature scaling\n",
    "# scaled only continuous values\n",
    "ss = StandardScaler()\n",
    "X_train[['years','height','weight','ap_hi','ap_lo','bmi']] = ss.fit_transform(X_train[['years','height','weight','ap_hi','ap_lo','bmi']])\n",
    "X_test[['years','height','weight','ap_hi','ap_lo','bmi']] = ss.fit_transform(X_test[['years','height','weight','ap_hi','ap_lo','bmi']])"
   ]
  },
  {
   "cell_type": "code",
   "execution_count": 218,
   "metadata": {},
   "outputs": [
    {
     "data": {
      "text/html": [
       "<div>\n",
       "<style scoped>\n",
       "    .dataframe tbody tr th:only-of-type {\n",
       "        vertical-align: middle;\n",
       "    }\n",
       "\n",
       "    .dataframe tbody tr th {\n",
       "        vertical-align: top;\n",
       "    }\n",
       "\n",
       "    .dataframe thead th {\n",
       "        text-align: right;\n",
       "    }\n",
       "</style>\n",
       "<table border=\"1\" class=\"dataframe\">\n",
       "  <thead>\n",
       "    <tr style=\"text-align: right;\">\n",
       "      <th></th>\n",
       "      <th>gender</th>\n",
       "      <th>height</th>\n",
       "      <th>weight</th>\n",
       "      <th>ap_hi</th>\n",
       "      <th>ap_lo</th>\n",
       "      <th>cholesterol</th>\n",
       "      <th>gluc</th>\n",
       "      <th>smoke</th>\n",
       "      <th>alco</th>\n",
       "      <th>active</th>\n",
       "      <th>bmi</th>\n",
       "      <th>years</th>\n",
       "    </tr>\n",
       "  </thead>\n",
       "  <tbody>\n",
       "    <tr>\n",
       "      <td>24746</td>\n",
       "      <td>2</td>\n",
       "      <td>1.529052</td>\n",
       "      <td>0.568454</td>\n",
       "      <td>1.752463</td>\n",
       "      <td>-0.130269</td>\n",
       "      <td>1</td>\n",
       "      <td>1</td>\n",
       "      <td>0</td>\n",
       "      <td>0</td>\n",
       "      <td>1</td>\n",
       "      <td>-0.237365</td>\n",
       "      <td>0.098441</td>\n",
       "    </tr>\n",
       "    <tr>\n",
       "      <td>19479</td>\n",
       "      <td>1</td>\n",
       "      <td>-0.668709</td>\n",
       "      <td>-0.295274</td>\n",
       "      <td>1.752463</td>\n",
       "      <td>1.085346</td>\n",
       "      <td>1</td>\n",
       "      <td>1</td>\n",
       "      <td>0</td>\n",
       "      <td>0</td>\n",
       "      <td>1</td>\n",
       "      <td>0.040702</td>\n",
       "      <td>-0.494088</td>\n",
       "    </tr>\n",
       "    <tr>\n",
       "      <td>15537</td>\n",
       "      <td>1</td>\n",
       "      <td>-1.401297</td>\n",
       "      <td>-0.986256</td>\n",
       "      <td>1.026916</td>\n",
       "      <td>-0.130269</td>\n",
       "      <td>1</td>\n",
       "      <td>1</td>\n",
       "      <td>0</td>\n",
       "      <td>0</td>\n",
       "      <td>1</td>\n",
       "      <td>-0.309312</td>\n",
       "      <td>-0.197824</td>\n",
       "    </tr>\n",
       "    <tr>\n",
       "      <td>39116</td>\n",
       "      <td>2</td>\n",
       "      <td>2.261639</td>\n",
       "      <td>0.050217</td>\n",
       "      <td>1.026916</td>\n",
       "      <td>0.963784</td>\n",
       "      <td>1</td>\n",
       "      <td>1</td>\n",
       "      <td>0</td>\n",
       "      <td>0</td>\n",
       "      <td>0</td>\n",
       "      <td>-0.984832</td>\n",
       "      <td>-1.975409</td>\n",
       "    </tr>\n",
       "    <tr>\n",
       "      <td>64308</td>\n",
       "      <td>1</td>\n",
       "      <td>0.063878</td>\n",
       "      <td>1.864047</td>\n",
       "      <td>0.301368</td>\n",
       "      <td>1.085346</td>\n",
       "      <td>3</td>\n",
       "      <td>3</td>\n",
       "      <td>0</td>\n",
       "      <td>0</td>\n",
       "      <td>0</td>\n",
       "      <td>1.759847</td>\n",
       "      <td>0.690969</td>\n",
       "    </tr>\n",
       "  </tbody>\n",
       "</table>\n",
       "</div>"
      ],
      "text/plain": [
       "       gender    height    weight     ap_hi     ap_lo  cholesterol  gluc  \\\n",
       "24746       2  1.529052  0.568454  1.752463 -0.130269            1     1   \n",
       "19479       1 -0.668709 -0.295274  1.752463  1.085346            1     1   \n",
       "15537       1 -1.401297 -0.986256  1.026916 -0.130269            1     1   \n",
       "39116       2  2.261639  0.050217  1.026916  0.963784            1     1   \n",
       "64308       1  0.063878  1.864047  0.301368  1.085346            3     3   \n",
       "\n",
       "       smoke  alco  active       bmi     years  \n",
       "24746      0     0       1 -0.237365  0.098441  \n",
       "19479      0     0       1  0.040702 -0.494088  \n",
       "15537      0     0       1 -0.309312 -0.197824  \n",
       "39116      0     0       0 -0.984832 -1.975409  \n",
       "64308      0     0       0  1.759847  0.690969  "
      ]
     },
     "execution_count": 218,
     "metadata": {},
     "output_type": "execute_result"
    }
   ],
   "source": [
    "X_train.head()"
   ]
  },
  {
   "cell_type": "markdown",
   "metadata": {},
   "source": [
    "# Fitting to models and comparing results\n",
    "___\n",
    "* Logistic Regression\n",
    "* KNeighbors\n",
    "* Naive Bayes\n",
    "* Decision Tree\n",
    "* SVM (linear)\n",
    "* Random Forest\n",
    "* Xtra Trees Classifier\n",
    "* Ada Boost"
   ]
  },
  {
   "cell_type": "code",
   "execution_count": 219,
   "metadata": {},
   "outputs": [
    {
     "name": "stdout",
     "output_type": "stream",
     "text": [
      "Best Penalty: l1\n",
      "Best C: 1\n"
     ]
    },
    {
     "ename": "ValueError",
     "evalue": "X has 13 features per sample; expecting 12",
     "output_type": "error",
     "traceback": [
      "\u001b[0;31m---------------------------------------------------------------------------\u001b[0m",
      "\u001b[0;31mValueError\u001b[0m                                Traceback (most recent call last)",
      "\u001b[0;32m<ipython-input-219-d176764c6765>\u001b[0m in \u001b[0;36m<module>\u001b[0;34m\u001b[0m\n\u001b[1;32m      9\u001b[0m \u001b[0mprint\u001b[0m\u001b[0;34m(\u001b[0m\u001b[0;34m'Best C:'\u001b[0m\u001b[0;34m,\u001b[0m \u001b[0mbest_model\u001b[0m\u001b[0;34m.\u001b[0m\u001b[0mbest_estimator_\u001b[0m\u001b[0;34m.\u001b[0m\u001b[0mget_params\u001b[0m\u001b[0;34m(\u001b[0m\u001b[0;34m)\u001b[0m\u001b[0;34m[\u001b[0m\u001b[0;34m'C'\u001b[0m\u001b[0;34m]\u001b[0m\u001b[0;34m)\u001b[0m\u001b[0;34m\u001b[0m\u001b[0;34m\u001b[0m\u001b[0m\n\u001b[1;32m     10\u001b[0m \u001b[0;34m\u001b[0m\u001b[0m\n\u001b[0;32m---> 11\u001b[0;31m \u001b[0my_pred\u001b[0m \u001b[0;34m=\u001b[0m \u001b[0mbest_model\u001b[0m\u001b[0;34m.\u001b[0m\u001b[0mpredict\u001b[0m\u001b[0;34m(\u001b[0m\u001b[0mX_test\u001b[0m\u001b[0;34m)\u001b[0m\u001b[0;34m\u001b[0m\u001b[0;34m\u001b[0m\u001b[0m\n\u001b[0m\u001b[1;32m     12\u001b[0m \u001b[0my_hat_proba\u001b[0m \u001b[0;34m=\u001b[0m \u001b[0mbest_model\u001b[0m\u001b[0;34m.\u001b[0m\u001b[0mpredict_proba\u001b[0m\u001b[0;34m(\u001b[0m\u001b[0mX_test\u001b[0m\u001b[0;34m)\u001b[0m\u001b[0;34m[\u001b[0m\u001b[0;34m:\u001b[0m\u001b[0;34m,\u001b[0m\u001b[0;36m1\u001b[0m\u001b[0;34m]\u001b[0m\u001b[0;34m\u001b[0m\u001b[0;34m\u001b[0m\u001b[0m\n\u001b[1;32m     13\u001b[0m \u001b[0;34m\u001b[0m\u001b[0m\n",
      "\u001b[0;32m~/anaconda3/envs/learn-env/lib/python3.7/site-packages/sklearn/utils/metaestimators.py\u001b[0m in \u001b[0;36m<lambda>\u001b[0;34m(*args, **kwargs)\u001b[0m\n\u001b[1;32m    114\u001b[0m \u001b[0;34m\u001b[0m\u001b[0m\n\u001b[1;32m    115\u001b[0m         \u001b[0;31m# lambda, but not partial, allows help() to work with update_wrapper\u001b[0m\u001b[0;34m\u001b[0m\u001b[0;34m\u001b[0m\u001b[0;34m\u001b[0m\u001b[0m\n\u001b[0;32m--> 116\u001b[0;31m         \u001b[0mout\u001b[0m \u001b[0;34m=\u001b[0m \u001b[0;32mlambda\u001b[0m \u001b[0;34m*\u001b[0m\u001b[0margs\u001b[0m\u001b[0;34m,\u001b[0m \u001b[0;34m**\u001b[0m\u001b[0mkwargs\u001b[0m\u001b[0;34m:\u001b[0m \u001b[0mself\u001b[0m\u001b[0;34m.\u001b[0m\u001b[0mfn\u001b[0m\u001b[0;34m(\u001b[0m\u001b[0mobj\u001b[0m\u001b[0;34m,\u001b[0m \u001b[0;34m*\u001b[0m\u001b[0margs\u001b[0m\u001b[0;34m,\u001b[0m \u001b[0;34m**\u001b[0m\u001b[0mkwargs\u001b[0m\u001b[0;34m)\u001b[0m\u001b[0;34m\u001b[0m\u001b[0;34m\u001b[0m\u001b[0m\n\u001b[0m\u001b[1;32m    117\u001b[0m         \u001b[0;31m# update the docstring of the returned function\u001b[0m\u001b[0;34m\u001b[0m\u001b[0;34m\u001b[0m\u001b[0;34m\u001b[0m\u001b[0m\n\u001b[1;32m    118\u001b[0m         \u001b[0mupdate_wrapper\u001b[0m\u001b[0;34m(\u001b[0m\u001b[0mout\u001b[0m\u001b[0;34m,\u001b[0m \u001b[0mself\u001b[0m\u001b[0;34m.\u001b[0m\u001b[0mfn\u001b[0m\u001b[0;34m)\u001b[0m\u001b[0;34m\u001b[0m\u001b[0;34m\u001b[0m\u001b[0m\n",
      "\u001b[0;32m~/anaconda3/envs/learn-env/lib/python3.7/site-packages/sklearn/model_selection/_search.py\u001b[0m in \u001b[0;36mpredict\u001b[0;34m(self, X)\u001b[0m\n\u001b[1;32m    455\u001b[0m         \"\"\"\n\u001b[1;32m    456\u001b[0m         \u001b[0mself\u001b[0m\u001b[0;34m.\u001b[0m\u001b[0m_check_is_fitted\u001b[0m\u001b[0;34m(\u001b[0m\u001b[0;34m'predict'\u001b[0m\u001b[0;34m)\u001b[0m\u001b[0;34m\u001b[0m\u001b[0;34m\u001b[0m\u001b[0m\n\u001b[0;32m--> 457\u001b[0;31m         \u001b[0;32mreturn\u001b[0m \u001b[0mself\u001b[0m\u001b[0;34m.\u001b[0m\u001b[0mbest_estimator_\u001b[0m\u001b[0;34m.\u001b[0m\u001b[0mpredict\u001b[0m\u001b[0;34m(\u001b[0m\u001b[0mX\u001b[0m\u001b[0;34m)\u001b[0m\u001b[0;34m\u001b[0m\u001b[0;34m\u001b[0m\u001b[0m\n\u001b[0m\u001b[1;32m    458\u001b[0m \u001b[0;34m\u001b[0m\u001b[0m\n\u001b[1;32m    459\u001b[0m     \u001b[0;34m@\u001b[0m\u001b[0mif_delegate_has_method\u001b[0m\u001b[0;34m(\u001b[0m\u001b[0mdelegate\u001b[0m\u001b[0;34m=\u001b[0m\u001b[0;34m(\u001b[0m\u001b[0;34m'best_estimator_'\u001b[0m\u001b[0;34m,\u001b[0m \u001b[0;34m'estimator'\u001b[0m\u001b[0;34m)\u001b[0m\u001b[0;34m)\u001b[0m\u001b[0;34m\u001b[0m\u001b[0;34m\u001b[0m\u001b[0m\n",
      "\u001b[0;32m~/anaconda3/envs/learn-env/lib/python3.7/site-packages/sklearn/linear_model/base.py\u001b[0m in \u001b[0;36mpredict\u001b[0;34m(self, X)\u001b[0m\n\u001b[1;32m    287\u001b[0m             \u001b[0mPredicted\u001b[0m \u001b[0;32mclass\u001b[0m \u001b[0mlabel\u001b[0m \u001b[0mper\u001b[0m \u001b[0msample\u001b[0m\u001b[0;34m.\u001b[0m\u001b[0;34m\u001b[0m\u001b[0;34m\u001b[0m\u001b[0m\n\u001b[1;32m    288\u001b[0m         \"\"\"\n\u001b[0;32m--> 289\u001b[0;31m         \u001b[0mscores\u001b[0m \u001b[0;34m=\u001b[0m \u001b[0mself\u001b[0m\u001b[0;34m.\u001b[0m\u001b[0mdecision_function\u001b[0m\u001b[0;34m(\u001b[0m\u001b[0mX\u001b[0m\u001b[0;34m)\u001b[0m\u001b[0;34m\u001b[0m\u001b[0;34m\u001b[0m\u001b[0m\n\u001b[0m\u001b[1;32m    290\u001b[0m         \u001b[0;32mif\u001b[0m \u001b[0mlen\u001b[0m\u001b[0;34m(\u001b[0m\u001b[0mscores\u001b[0m\u001b[0;34m.\u001b[0m\u001b[0mshape\u001b[0m\u001b[0;34m)\u001b[0m \u001b[0;34m==\u001b[0m \u001b[0;36m1\u001b[0m\u001b[0;34m:\u001b[0m\u001b[0;34m\u001b[0m\u001b[0;34m\u001b[0m\u001b[0m\n\u001b[1;32m    291\u001b[0m             \u001b[0mindices\u001b[0m \u001b[0;34m=\u001b[0m \u001b[0;34m(\u001b[0m\u001b[0mscores\u001b[0m \u001b[0;34m>\u001b[0m \u001b[0;36m0\u001b[0m\u001b[0;34m)\u001b[0m\u001b[0;34m.\u001b[0m\u001b[0mastype\u001b[0m\u001b[0;34m(\u001b[0m\u001b[0mnp\u001b[0m\u001b[0;34m.\u001b[0m\u001b[0mint\u001b[0m\u001b[0;34m)\u001b[0m\u001b[0;34m\u001b[0m\u001b[0;34m\u001b[0m\u001b[0m\n",
      "\u001b[0;32m~/anaconda3/envs/learn-env/lib/python3.7/site-packages/sklearn/linear_model/base.py\u001b[0m in \u001b[0;36mdecision_function\u001b[0;34m(self, X)\u001b[0m\n\u001b[1;32m    268\u001b[0m         \u001b[0;32mif\u001b[0m \u001b[0mX\u001b[0m\u001b[0;34m.\u001b[0m\u001b[0mshape\u001b[0m\u001b[0;34m[\u001b[0m\u001b[0;36m1\u001b[0m\u001b[0;34m]\u001b[0m \u001b[0;34m!=\u001b[0m \u001b[0mn_features\u001b[0m\u001b[0;34m:\u001b[0m\u001b[0;34m\u001b[0m\u001b[0;34m\u001b[0m\u001b[0m\n\u001b[1;32m    269\u001b[0m             raise ValueError(\"X has %d features per sample; expecting %d\"\n\u001b[0;32m--> 270\u001b[0;31m                              % (X.shape[1], n_features))\n\u001b[0m\u001b[1;32m    271\u001b[0m \u001b[0;34m\u001b[0m\u001b[0m\n\u001b[1;32m    272\u001b[0m         scores = safe_sparse_dot(X, self.coef_.T,\n",
      "\u001b[0;31mValueError\u001b[0m: X has 13 features per sample; expecting 12"
     ]
    }
   ],
   "source": [
    "# logistic regression\n",
    "\n",
    "logistic = LogisticRegression(random_state=12345)\n",
    "hyperparameters = {'penalty':('l1','l2'),'C':[1,3]}\n",
    "clf = GridSearchCV(logistic, hyperparameters, cv=3, verbose=0)\n",
    "best_model = clf.fit(X_train, y_train)\n",
    "\n",
    "print('Best Penalty:', best_model.best_estimator_.get_params()['penalty'])\n",
    "print('Best C:', best_model.best_estimator_.get_params()['C'])\n",
    "\n",
    "y_pred = best_model.predict(X_test)\n",
    "y_hat_proba = best_model.predict_proba(X_test)[:,1]\n",
    "\n",
    "fpr, tpr, threshold = roc_curve(y_test, y_hat_proba)\n",
    "roc_auc = auc(fpr, tpr)\n",
    "# log reg curve\n",
    "# log_curve = sns.regplot(x=y_hat_proba, y=y_test, data=None, logistic=True)\n",
    "# plt.title('Probability Curve')\n",
    "\n",
    "# ROC Curve\n",
    "# plt.title('Receiver Operating Characteristic')\n",
    "# plt.plot(fpr, tpr, 'b', label = 'AUC = %0.2f' % roc_auc)\n",
    "# plt.legend(loc = 'lower right')\n",
    "# plt.plot([0, 1], [0, 1],'r--')\n",
    "# plt.xlim([0, 1])\n",
    "# plt.ylim([0, 1])\n",
    "# plt.ylabel('True Positive Rate')\n",
    "# plt.xlabel('False Positive Rate')\n",
    "# plt.show()\n",
    "\n",
    "cm = confusion_matrix(y_test,y_pred)\n",
    "\n",
    "print('Accuracy', accuracy_score(y_test,y_pred))\n",
    "print('AUC_ROC',roc_auc_score(y_pred,y_test))\n",
    "print('Recall', recall_score(y_pred,y_test))\n",
    "print(cm)\n",
    "print('Recall', recall_score(y_pred,y_test))\n",
    "print('Precision',precision_score(y_pred,y_test))"
   ]
  },
  {
   "cell_type": "code",
   "execution_count": null,
   "metadata": {
    "jupyter": {
     "source_hidden": true
    }
   },
   "outputs": [],
   "source": [
    "# # decision tree grid search\n",
    "# dt = DecisionTreeClassifier(random_state=12345)\n",
    "# hyperparameters = {'criterion':('entropy','gini'),'min_samples_split':range(2,10,2),'max_depth':range(1,10,2)}\n",
    "# clf = GridSearchCV(dt, hyperparameters, cv=3, verbose=0)\n",
    "# best_model = clf.fit(X_train, y_train)\n",
    "\n",
    "# print('Best Citerion:', best_model.best_estimator_.get_params()['criterion'])\n",
    "# print('Best Num Split:', best_model.best_estimator_.get_params()['min_samples_split'])\n",
    "# print('Best Depth:', best_model.best_estimator_.get_params()['max_depth'])\n",
    "\n",
    "# y_pred = best_model.predict(X_test)\n",
    "# y_hat_proba = best_model.predict_proba(X_test)[:,1]\n",
    "\n",
    "# scores = cross_val_score(best_model,X_test,y_pred, cv=5)\n",
    "# cm = confusion_matrix(y_test,y_pred)\n",
    "\n",
    "\n",
    "# print('Accuracy', accuracy_score(y_test,y_pred))\n",
    "# print('AUC_ROC',roc_auc_score(y_pred,y_test))\n",
    "# print(cm)\n",
    "# print('Recall', recall_score(y_pred,y_test))\n",
    "# print('Precision',precision_score(y_pred,y_test))"
   ]
  },
  {
   "cell_type": "code",
   "execution_count": null,
   "metadata": {},
   "outputs": [],
   "source": [
    "# we tuned the parameters for the model, now we can manully set them\n",
    "dt = DecisionTreeClassifier(criterion='entropy',min_samples_split=2,max_depth=5,random_state=12345)\n",
    "dt.fit(X_train, y_train)\n",
    "\n",
    "y_pred = dt.predict(X_test)\n",
    "y_hat_proba = dt.predict_proba(X_test)[:,1]\n",
    "\n",
    "fpr, tpr, threshold = roc_curve(y_test, y_hat_proba)\n",
    "roc_auc = auc(fpr, tpr)\n",
    "\n",
    "# plt.title('Receiver Operating Characteristic')\n",
    "# plt.plot(fpr, tpr, 'b', label = 'AUC = %0.2f' % roc_auc)\n",
    "# plt.legend(loc = 'lower right')\n",
    "# plt.plot([0, 1], [0, 1],'r--')\n",
    "# plt.xlim([0, 1])\n",
    "# plt.ylim([0, 1])\n",
    "# plt.ylabel('True Positive Rate')\n",
    "# plt.xlabel('False Positive Rate')\n",
    "# plt.show()\n",
    "scores = cross_val_score(dt,X_test,y_pred, cv=5)\n",
    "cm = confusion_matrix(y_test,y_pred)\n",
    "\n",
    "print('Accuracy', accuracy_score(y_test,y_pred))\n",
    "print('AUC_ROC',roc_auc_score(y_pred,y_test))\n",
    "print(cm)\n",
    "print('Recall', recall_score(y_pred,y_test))\n",
    "print('Precision',precision_score(y_pred,y_test))\n"
   ]
  },
  {
   "cell_type": "code",
   "execution_count": null,
   "metadata": {},
   "outputs": [],
   "source": [
    "# from sklearn.externals.six import StringIO  \n",
    "# from IPython.display import Image  \n",
    "# from sklearn.tree import export_graphviz\n",
    "# import pydotplus\n",
    "# dot_data = StringIO()\n",
    "# export_graphviz(dt, out_file=dot_data,  \n",
    "#                 filled=True, rounded=True,\n",
    "#                 special_characters=True, feature_names=X.columns)\n",
    "# graph = pydotplus.graph_from_dot_data(dot_data.getvalue())  \n",
    "# Image(graph.create_png())"
   ]
  },
  {
   "cell_type": "code",
   "execution_count": null,
   "metadata": {},
   "outputs": [],
   "source": [
    "# Naive Bayes\n",
    "nb = GaussianNB()\n",
    "nb.fit(X_train,y_train)\n",
    "y_pred = nb.predict(X_test)\n",
    "y_hat_proba = nb.predict_proba(X_test)[:,1]\n",
    "\n",
    "fpr, tpr, threshold = roc_curve(y_test, y_hat_proba)\n",
    "roc_auc = auc(fpr, tpr)\n",
    "\n",
    "plt.title('Receiver Operating Characteristic')\n",
    "plt.plot(fpr, tpr, 'b', label = 'AUC = %0.2f' % roc_auc)\n",
    "plt.legend(loc = 'lower right')\n",
    "plt.plot([0, 1], [0, 1],'r--')\n",
    "plt.xlim([0, 1])\n",
    "plt.ylim([0, 1])\n",
    "plt.ylabel('True Positive Rate')\n",
    "plt.xlabel('False Positive Rate')\n",
    "plt.show()\n",
    "\n",
    "cm = confusion_matrix(y_test,y_pred)\n",
    "print('Precision',precision_score(y_pred,y_test))\n",
    "print('Accuracy', accuracy_score(y_test,y_pred))\n",
    "print('AUC_ROC',roc_auc_score(y_pred,y_test))\n",
    "print(cm)\n",
    "print('Recall', recall_score(y_pred,y_test))\n",
    "print('Precision',precision_score(y_pred,y_test))"
   ]
  },
  {
   "cell_type": "code",
   "execution_count": null,
   "metadata": {},
   "outputs": [],
   "source": [
    "# SVM \n",
    "svm = LinearSVC(dual=False,random_state=12345)\n",
    "hyperparameters = {'penalty':('l1','l2'),\n",
    "                   'C':[1,3]}\n",
    "\n",
    "clf = GridSearchCV(svm, hyperparameters, cv=5, verbose=0)\n",
    "best_model = clf.fit(X_train, y_train)\n",
    "\n",
    "print('Best Penalty:', best_model.best_estimator_.get_params()['penalty'])\n",
    "print('Best C:', best_model.best_estimator_.get_params()['C'])\n",
    "\n",
    "y_pred = best_model.predict(X_test)\n",
    "# y_hat_proba = best_model.predict_proba(X_test)[:,1]\n",
    "\n",
    "cm = confusion_matrix(y_test,y_pred)\n",
    "scores = cross_val_score(best_model,X_test,y_pred, cv= 5)\n",
    "\n",
    "print('Accuracy', accuracy_score(y_test,y_pred))\n",
    "print('AUC_ROC',roc_auc_score(y_pred,y_test))\n",
    "print(scores.mean())\n",
    "print(cm)\n",
    "print('Recall', recall_score(y_pred,y_test))\n",
    "print('Precision',precision_score(y_pred,y_test))"
   ]
  },
  {
   "cell_type": "code",
   "execution_count": null,
   "metadata": {},
   "outputs": [],
   "source": [
    "# SVM \n",
    "svm = LinearSVC(penalty='l2',C=1,random_state=12345)\n",
    "svm.fit(X_train,y_train)\n",
    "y_pred = svm.predict(X_test)\n",
    "\n",
    "cm = confusion_matrix(y_test,y_pred)\n",
    "print('Precision',precision_score(y_pred,y_test))\n",
    "print('Accuracy', accuracy_score(y_test,y_pred))\n",
    "print('AUC_ROC',roc_auc_score(y_pred,y_test))\n",
    "print(cm)\n",
    "print('Recall', recall_score(y_pred,y_test))\n",
    "print('Precision',precision_score(y_pred,y_test))"
   ]
  },
  {
   "cell_type": "code",
   "execution_count": null,
   "metadata": {
    "jupyter": {
     "source_hidden": true
    }
   },
   "outputs": [],
   "source": [
    "# # SVM - SGDClassifier \n",
    "# svm = SGDClassifier(eta0=1,random_state=12345)\n",
    "# hyperparameters = {'loss':('log','perceptron'),\n",
    "#                    'penalty':('l1','l2','elasticnet'),\n",
    "#                    'learning_rate':('constant','optimal','invscaling','adaptive')}\n",
    "# clf = GridSearchCV(svm, hyperparameters, cv=5, verbose=0)\n",
    "# best_model = clf.fit(X_train, y_train)\n",
    "\n",
    "# print('Best Loss:', best_model.best_estimator_.get_params()['loss'])\n",
    "# print('Best penalty:', best_model.best_estimator_.get_params()['penalty'])\n",
    "# print('Best learning_rate:', best_model.best_estimator_.get_params()['learning_rate'])\n",
    "\n",
    "# y_pred = best_model.predict(X_test)\n",
    "# # y_hat_proba = best_model.predict_proba(X_test)[:,1]\n",
    "\n",
    "# cm = confusion_matrix(y_test,y_pred)\n",
    "# scores = cross_val_score(best_model,X_test,y_pred, cv= 5)\n",
    "\n",
    "# print('Accuracy', accuracy_score(y_test,y_pred))\n",
    "# print('AUC_ROC',roc_auc_score(y_pred,y_test))\n",
    "# print(scores.mean())\n",
    "# print(cm)\n",
    "# print('Recall', recall_score(y_pred,y_test))\n",
    "# print('Precision',precision_score(y_pred,y_test))"
   ]
  },
  {
   "cell_type": "code",
   "execution_count": null,
   "metadata": {
    "jupyter": {
     "source_hidden": true
    }
   },
   "outputs": [],
   "source": [
    "# knn = KNeighborsClassifier(metric='minkowski',weights='uniform')\n",
    "# hyperparameters = {'n_neighbors':range(3,10,1), 'p':[1,2]}\n",
    "# clf = GridSearchCV(knn, hyperparameters, cv=5, verbose=0,n_jobs=-1)\n",
    "# best_model = clf.fit(X_train, y_train)\n",
    "\n",
    "# print('Best K_value:', best_model.best_estimator_.get_params()['n_neighbors'])\n",
    "# print('Best p:', best_model.best_estimator_.get_params()['p'])\n",
    "\n",
    "# y_pred = best_model.predict(X_test)\n",
    "# y_hat_proba = best_model.predict_proba(X_test)[:,1]\n",
    "\n",
    "# scores = cross_val_score(best_model,X_test,y_pred, cv= 5)\n",
    "# cm = confusion_matrix(y_test,y_pred)\n",
    "\n",
    "# print('Accuracy', accuracy_score(y_test,y_pred))\n",
    "# print('AUC_ROC',roc_auc_score(y_pred,y_test))\n",
    "# print(cm)\n",
    "# print(scores.mean())\n",
    "# print('Recall', recall_score(y_pred,y_test))\n",
    "# print('Precision',precision_score(y_pred,y_test))"
   ]
  },
  {
   "cell_type": "code",
   "execution_count": null,
   "metadata": {},
   "outputs": [],
   "source": [
    "# KNN\n",
    "knn = KNeighborsClassifier(n_neighbors=9,metric='minkowski',weights='uniform',p=1)\n",
    "knn.fit(X_train, y_train)\n",
    "y_pred =  knn.predict(X_test)\n",
    "\n",
    "y_hat_proba = knn.predict_proba(X_test)[:,1]\n",
    "fpr, tpr, threshold = roc_curve(y_test, y_hat_proba)\n",
    "roc_auc = auc(fpr, tpr)\n",
    "\n",
    "plt.title('Receiver Operating Characteristic')\n",
    "plt.plot(fpr, tpr, 'b', label = 'AUC = %0.2f' % roc_auc)\n",
    "plt.legend(loc = 'lower right')\n",
    "plt.plot([0, 1], [0, 1],'r--')\n",
    "plt.xlim([0, 1])\n",
    "plt.ylim([0, 1])\n",
    "plt.ylabel('True Positive Rate')\n",
    "plt.xlabel('False Positive Rate')\n",
    "plt.show()\n",
    "\n",
    "cm = confusion_matrix(y_test,y_pred)\n",
    "print('Precision',precision_score(y_pred,y_test))\n",
    "print('Accuracy', accuracy_score(y_test,y_pred))\n",
    "print('AUC_ROC',roc_auc_score(y_pred,y_test))\n",
    "print(cm)\n",
    "print('Recall', recall_score(y_pred,y_test))\n",
    "print('Precision',precision_score(y_pred,y_test))"
   ]
  },
  {
   "cell_type": "code",
   "execution_count": null,
   "metadata": {
    "jupyter": {
     "source_hidden": true
    }
   },
   "outputs": [],
   "source": [
    "# # random forest\n",
    "# rf = RandomForestClassifier()\n",
    "# hyperparameters = {'n_estimators':range(10,20,2), \n",
    "#                    'criterion':('entropy','gini'),\n",
    "#                    'max_depth':range(1,10,2),\n",
    "#                    'min_samples_split':range(2,10,1)}\n",
    "\n",
    "# clf = GridSearchCV(rf, hyperparameters, cv=5, verbose=0,n_jobs=-1)\n",
    "# best_model = clf.fit(X_train, y_train)\n",
    "\n",
    "# print('Best Citerion:', best_model.best_estimator_.get_params()['criterion'])\n",
    "# print('Best n_estimator:', best_model.best_estimator_.get_params()['n_estimators'])\n",
    "# print('Best min_sample_splits:', best_model.best_estimator_.get_params()['min_samples_split'])\n",
    "# print('Best max_depth:', best_model.best_estimator_.get_params()['max_depth'])\n",
    "\n",
    "# y_pred = best_model.predict(X_test)\n",
    "# y_hat_proba = best_model.predict_proba(X_test)[:,1]\n",
    "\n",
    "# scores = cross_val_score(best_model,X_test,y_pred, cv= 5)\n",
    "# cm = confusion_matrix(y_test,y_pred)\n",
    "\n",
    "# print('Accuracy', accuracy_score(y_test,y_pred))\n",
    "# print('AUC_ROC',roc_auc_score(y_pred,y_test))\n",
    "# print(cm)\n",
    "# print('Recall', recall_score(y_pred,y_test))\n",
    "# print('Precision',precision_score(y_pred,y_test))"
   ]
  },
  {
   "cell_type": "code",
   "execution_count": null,
   "metadata": {},
   "outputs": [],
   "source": [
    "rf = RandomForestClassifier(n_estimators=18,criterion='gini',min_samples_split=2,\n",
    "                            max_depth=9,random_state=12345)\n",
    "rf.fit(X_train,y_train)\n",
    "y_pred =  rf.predict(X_test)\n",
    "\n",
    "cm = confusion_matrix(y_test,y_pred)\n",
    "print('Precision',precision_score(y_pred,y_test))\n",
    "print('Accuracy', accuracy_score(y_test,y_pred))\n",
    "print('AUC_ROC',roc_auc_score(y_pred,y_test))\n",
    "print(cm)\n",
    "print('Recall', recall_score(y_pred,y_test))\n",
    "print('Precision',precision_score(y_pred,y_test))"
   ]
  },
  {
   "cell_type": "code",
   "execution_count": null,
   "metadata": {
    "jupyter": {
     "source_hidden": true
    }
   },
   "outputs": [],
   "source": [
    "# from sklearn.ensemble import ExtraTreesClassifier\n",
    "\n",
    "# extra_clf = ExtraTreesClassifier()\n",
    "# hyperparameters = {'n_estimators':range(10,20,2), \n",
    "#                    'criterion':('entropy','gini'),\n",
    "#                    'max_depth':range(1,10,2),\n",
    "#                    'min_samples_split':range(2,10,1)}\n",
    "\n",
    "# clf = GridSearchCV(extra_clf, hyperparameters, cv=5, verbose=0,n_jobs=-1)\n",
    "# best_model = clf.fit(X_train, y_train)\n",
    "\n",
    "# print('Best Citerion:', best_model.best_estimator_.get_params()['criterion'])\n",
    "# print('Best n_estimator:', best_model.best_estimator_.get_params()['n_estimators'])\n",
    "# print('Best min_sample_splits:', best_model.best_estimator_.get_params()['min_samples_split'])\n",
    "# print('Best max_depth:', best_model.best_estimator_.get_params()['max_depth'])\n",
    "\n",
    "# y_pred = best_model.predict(X_test)\n",
    "\n",
    "# cross_val_score(best_model,X_test,y_pred, cv= 5)\n",
    "# cm = confusion_matrix(y_test,y_pred)\n",
    "\n",
    "# print('Accuracy', accuracy_score(y_test,y_pred))\n",
    "# print('AUC_ROC',roc_auc_score(y_pred,y_test))\n",
    "# print(cm)\n",
    "# print('Recall', recall_score(y_pred,y_test))\n",
    "# print('Precision',precision_score(y_pred,y_test))"
   ]
  },
  {
   "cell_type": "code",
   "execution_count": null,
   "metadata": {},
   "outputs": [],
   "source": [
    "extra_clf = ExtraTreesClassifier(n_estimators=18,criterion='entropy',min_samples_split=9,\n",
    "                                 max_depth=9,random_state=12345)\n",
    "extra_clf.fit(X_train,y_train)\n",
    "y_pred =  extra_clf.predict(X_test)\n",
    "\n",
    "cm = confusion_matrix(y_test,y_pred)\n",
    "print('Precision',precision_score(y_pred,y_test))\n",
    "print('Accuracy', accuracy_score(y_test,y_pred))\n",
    "print('AUC_ROC',roc_auc_score(y_pred,y_test))\n",
    "print(cm)\n",
    "print('Recall', recall_score(y_pred,y_test))\n",
    "print('Precision',precision_score(y_pred,y_test))"
   ]
  },
  {
   "cell_type": "code",
   "execution_count": null,
   "metadata": {},
   "outputs": [],
   "source": [
    "# adaboost\n",
    "from sklearn.ensemble import AdaBoostClassifier\n",
    "\n",
    "ada_boost = AdaBoostClassifier(learning_rate=0.99,n_estimators=50)\n",
    "ada_boost.fit(X_train, y_train)\n",
    "\n",
    "y_pred = ada_boost.predict(X_test)\n",
    "cross_val_score(best_model,X_test,y_pred, cv= 5)\n",
    "\n",
    "cm = confusion_matrix(y_test,y_pred)\n",
    "print('Precision',precision_score(y_pred,y_test))\n",
    "print('Accuracy', accuracy_score(y_test,y_pred))\n",
    "print('AUC_ROC',roc_auc_score(y_pred,y_test))\n",
    "print(cm)\n",
    "print('Recall', recall_score(y_pred,y_test))\n",
    "print('Precision',precision_score(y_pred,y_test))"
   ]
  },
  {
   "cell_type": "markdown",
   "metadata": {},
   "source": [
    "The highest AUC_ROC score of all the implemented models AdaBoost perfermed the best with slightly better results.\n",
    "\n",
    "n_estimator = 50 -> was found by gridsearch"
   ]
  }
 ],
 "metadata": {
  "kernelspec": {
   "display_name": "Python 3",
   "language": "python",
   "name": "python3"
  },
  "language_info": {
   "codemirror_mode": {
    "name": "ipython",
    "version": 3
   },
   "file_extension": ".py",
   "mimetype": "text/x-python",
   "name": "python",
   "nbconvert_exporter": "python",
   "pygments_lexer": "ipython3",
   "version": "3.7.4"
  }
 },
 "nbformat": 4,
 "nbformat_minor": 4
}
