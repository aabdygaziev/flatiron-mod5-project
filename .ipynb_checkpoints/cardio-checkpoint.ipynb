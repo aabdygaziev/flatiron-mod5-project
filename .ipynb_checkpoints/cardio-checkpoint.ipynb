{
 "cells": [
  {
   "cell_type": "markdown",
   "metadata": {},
   "source": [
    "# Dataset #\n",
    "**Size:**\n",
    "* 70,000 instances\n",
    "* 12 features\n",
    "\n",
    "**Features:**\n",
    "\n",
    "* Age | Objective Feature | age | int (days)\n",
    "* Height | Objective Feature | height | int (cm) |\n",
    "* Weight | Objective Feature | weight | float (kg) |\n",
    "* Gender | Objective Feature | gender | categorical code |\n",
    "* Systolic blood pressure | Examination Feature | ap_hi | int |\n",
    "* Diastolic blood pressure | Examination Feature | ap_lo | int |\n",
    "* Cholesterol | Examination Feature | cholesterol | 1: normal, 2: above normal, 3: well above normal |\n",
    "* Glucose | Examination Feature | gluc | 1: normal, 2: above normal, 3: well above normal |\n",
    "* Smoking | Subjective Feature | smoke | binary |\n",
    "* Alcohol intake | Subjective Feature | alco | binary |\n",
    "* Physical activity | Subjective Feature | active | binary |\n",
    "* Presence or absence of cardiovascular disease | Target Variable | cardio | binary |"
   ]
  },
  {
   "cell_type": "code",
   "execution_count": 1,
   "metadata": {},
   "outputs": [],
   "source": [
    "#importing packages\n",
    "import pandas as pd\n",
    "import numpy as np\n",
    "\n",
    "from sklearn.preprocessing import StandardScaler\n",
    "from sklearn.linear_model import LogisticRegression\n",
    "from sklearn.linear_model import SGDClassifier\n",
    "from sklearn.tree import DecisionTreeClassifier\n",
    "from sklearn.svm import LinearSVC\n",
    "from sklearn.linear_model import SGDClassifier\n",
    "from sklearn.naive_bayes import GaussianNB\n",
    "from sklearn.neighbors import KNeighborsClassifier\n",
    "from sklearn.ensemble import RandomForestClassifier\n",
    "from sklearn.model_selection import cross_val_score\n",
    "from sklearn.model_selection import GridSearchCV\n",
    "\n",
    "from sklearn.model_selection import train_test_split\n",
    "from sklearn.metrics import accuracy_score,f1_score,roc_auc_score,confusion_matrix, precision_score\n",
    "\n",
    "import seaborn as sns\n",
    "import matplotlib.pyplot as plt\n",
    "%matplotlib inline\n",
    "\n",
    "import warnings\n",
    "warnings.filterwarnings('ignore')"
   ]
  },
  {
   "cell_type": "code",
   "execution_count": 2,
   "metadata": {},
   "outputs": [
    {
     "data": {
      "text/plain": [
       "(70000, 13)"
      ]
     },
     "execution_count": 2,
     "metadata": {},
     "output_type": "execute_result"
    }
   ],
   "source": [
    "df = pd.read_csv('cardio_train.csv',delimiter=';')\n",
    "df.shape"
   ]
  },
  {
   "cell_type": "code",
   "execution_count": 3,
   "metadata": {},
   "outputs": [
    {
     "data": {
      "text/html": [
       "<div>\n",
       "<style scoped>\n",
       "    .dataframe tbody tr th:only-of-type {\n",
       "        vertical-align: middle;\n",
       "    }\n",
       "\n",
       "    .dataframe tbody tr th {\n",
       "        vertical-align: top;\n",
       "    }\n",
       "\n",
       "    .dataframe thead th {\n",
       "        text-align: right;\n",
       "    }\n",
       "</style>\n",
       "<table border=\"1\" class=\"dataframe\">\n",
       "  <thead>\n",
       "    <tr style=\"text-align: right;\">\n",
       "      <th></th>\n",
       "      <th>id</th>\n",
       "      <th>age</th>\n",
       "      <th>gender</th>\n",
       "      <th>height</th>\n",
       "      <th>weight</th>\n",
       "      <th>ap_hi</th>\n",
       "      <th>ap_lo</th>\n",
       "      <th>smoke</th>\n",
       "      <th>alco</th>\n",
       "      <th>active</th>\n",
       "      <th>cardio</th>\n",
       "      <th>cholesterol_1</th>\n",
       "      <th>cholesterol_2</th>\n",
       "      <th>cholesterol_3</th>\n",
       "      <th>gluc_1</th>\n",
       "      <th>gluc_2</th>\n",
       "      <th>gluc_3</th>\n",
       "    </tr>\n",
       "  </thead>\n",
       "  <tbody>\n",
       "    <tr>\n",
       "      <td>0</td>\n",
       "      <td>0</td>\n",
       "      <td>18393</td>\n",
       "      <td>2</td>\n",
       "      <td>168</td>\n",
       "      <td>62.0</td>\n",
       "      <td>110</td>\n",
       "      <td>80</td>\n",
       "      <td>0</td>\n",
       "      <td>0</td>\n",
       "      <td>1</td>\n",
       "      <td>0</td>\n",
       "      <td>1</td>\n",
       "      <td>0</td>\n",
       "      <td>0</td>\n",
       "      <td>1</td>\n",
       "      <td>0</td>\n",
       "      <td>0</td>\n",
       "    </tr>\n",
       "    <tr>\n",
       "      <td>1</td>\n",
       "      <td>1</td>\n",
       "      <td>20228</td>\n",
       "      <td>1</td>\n",
       "      <td>156</td>\n",
       "      <td>85.0</td>\n",
       "      <td>140</td>\n",
       "      <td>90</td>\n",
       "      <td>0</td>\n",
       "      <td>0</td>\n",
       "      <td>1</td>\n",
       "      <td>1</td>\n",
       "      <td>0</td>\n",
       "      <td>0</td>\n",
       "      <td>1</td>\n",
       "      <td>1</td>\n",
       "      <td>0</td>\n",
       "      <td>0</td>\n",
       "    </tr>\n",
       "    <tr>\n",
       "      <td>2</td>\n",
       "      <td>2</td>\n",
       "      <td>18857</td>\n",
       "      <td>1</td>\n",
       "      <td>165</td>\n",
       "      <td>64.0</td>\n",
       "      <td>130</td>\n",
       "      <td>70</td>\n",
       "      <td>0</td>\n",
       "      <td>0</td>\n",
       "      <td>0</td>\n",
       "      <td>1</td>\n",
       "      <td>0</td>\n",
       "      <td>0</td>\n",
       "      <td>1</td>\n",
       "      <td>1</td>\n",
       "      <td>0</td>\n",
       "      <td>0</td>\n",
       "    </tr>\n",
       "  </tbody>\n",
       "</table>\n",
       "</div>"
      ],
      "text/plain": [
       "   id    age  gender  height  weight  ap_hi  ap_lo  smoke  alco  active  \\\n",
       "0   0  18393       2     168    62.0    110     80      0     0       1   \n",
       "1   1  20228       1     156    85.0    140     90      0     0       1   \n",
       "2   2  18857       1     165    64.0    130     70      0     0       0   \n",
       "\n",
       "   cardio  cholesterol_1  cholesterol_2  cholesterol_3  gluc_1  gluc_2  gluc_3  \n",
       "0       0              1              0              0       1       0       0  \n",
       "1       1              0              0              1       1       0       0  \n",
       "2       1              0              0              1       1       0       0  "
      ]
     },
     "execution_count": 3,
     "metadata": {},
     "output_type": "execute_result"
    }
   ],
   "source": [
    "df = pd.get_dummies(df,columns=['cholesterol','gluc'])\n",
    "df.head(3)"
   ]
  },
  {
   "cell_type": "code",
   "execution_count": 4,
   "metadata": {},
   "outputs": [
    {
     "data": {
      "text/plain": [
       "(17,)"
      ]
     },
     "execution_count": 4,
     "metadata": {},
     "output_type": "execute_result"
    }
   ],
   "source": [
    "df.columns.shape"
   ]
  },
  {
   "cell_type": "code",
   "execution_count": 5,
   "metadata": {},
   "outputs": [
    {
     "name": "stdout",
     "output_type": "stream",
     "text": [
      "size:  (70000, 17)\n",
      "<class 'pandas.core.frame.DataFrame'>\n",
      "RangeIndex: 70000 entries, 0 to 69999\n",
      "Data columns (total 17 columns):\n",
      "id               70000 non-null int64\n",
      "age              70000 non-null int64\n",
      "gender           70000 non-null int64\n",
      "height           70000 non-null int64\n",
      "weight           70000 non-null float64\n",
      "ap_hi            70000 non-null int64\n",
      "ap_lo            70000 non-null int64\n",
      "smoke            70000 non-null int64\n",
      "alco             70000 non-null int64\n",
      "active           70000 non-null int64\n",
      "cardio           70000 non-null int64\n",
      "cholesterol_1    70000 non-null uint8\n",
      "cholesterol_2    70000 non-null uint8\n",
      "cholesterol_3    70000 non-null uint8\n",
      "gluc_1           70000 non-null uint8\n",
      "gluc_2           70000 non-null uint8\n",
      "gluc_3           70000 non-null uint8\n",
      "dtypes: float64(1), int64(10), uint8(6)\n",
      "memory usage: 6.3 MB\n",
      "info: None\n",
      "null values: False\n"
     ]
    }
   ],
   "source": [
    "# data exploration\n",
    "print('size: ',df.shape)\n",
    "print('info:',df.info())\n",
    "print('null values:',df.isnull().values.any())"
   ]
  },
  {
   "cell_type": "code",
   "execution_count": 6,
   "metadata": {},
   "outputs": [],
   "source": [
    "# dropping unnecessary columns\n",
    "df.drop('id',axis=1,inplace=True)"
   ]
  },
  {
   "cell_type": "markdown",
   "metadata": {},
   "source": [
    "**Identifying outliers**"
   ]
  },
  {
   "cell_type": "code",
   "execution_count": 7,
   "metadata": {},
   "outputs": [
    {
     "data": {
      "text/plain": [
       "1234"
      ]
     },
     "execution_count": 7,
     "metadata": {},
     "output_type": "execute_result"
    }
   ],
   "source": [
    "df[df['ap_lo'] > df['ap_hi']].shape[0]"
   ]
  },
  {
   "cell_type": "code",
   "execution_count": 8,
   "metadata": {},
   "outputs": [
    {
     "data": {
      "text/plain": [
       "(1537, 16)"
      ]
     },
     "execution_count": 8,
     "metadata": {},
     "output_type": "execute_result"
    }
   ],
   "source": [
    "df[(df['height'] < df['height'].quantile(0.025))].shape"
   ]
  },
  {
   "cell_type": "code",
   "execution_count": 9,
   "metadata": {},
   "outputs": [
    {
     "data": {
      "text/plain": [
       "(1439, 16)"
      ]
     },
     "execution_count": 9,
     "metadata": {},
     "output_type": "execute_result"
    }
   ],
   "source": [
    "df[(df['height'] > df['height'].quantile(0.975))].shape"
   ]
  },
  {
   "cell_type": "code",
   "execution_count": 10,
   "metadata": {},
   "outputs": [
    {
     "data": {
      "text/plain": [
       "(1114, 16)"
      ]
     },
     "execution_count": 10,
     "metadata": {},
     "output_type": "execute_result"
    }
   ],
   "source": [
    "df[(df['ap_hi']>df['ap_hi'].quantile(0.975))].shape"
   ]
  },
  {
   "cell_type": "markdown",
   "metadata": {},
   "source": [
    "* Remove outliers in height, weight that fall below 2.5% and above 97.5%\n",
    "* Remove outliers, where diastolic pressure is higher than systolic, which is incorrect"
   ]
  },
  {
   "cell_type": "code",
   "execution_count": 11,
   "metadata": {},
   "outputs": [],
   "source": [
    "# height, weight\n",
    "df.drop(df[(df['height'] > df['height'].quantile(0.975)) \n",
    "           | (df['height'] < df['height'].quantile(0.025))].index,inplace=True)\n",
    "df.drop(df[(df['weight'] > df['weight'].quantile(0.975)) \n",
    "           | (df['weight'] < df['weight'].quantile(0.025))].index, inplace=True)"
   ]
  },
  {
   "cell_type": "code",
   "execution_count": 12,
   "metadata": {},
   "outputs": [],
   "source": [
    "# blood pressure\n",
    "df.drop(df[(df['ap_hi'] > df['ap_hi'].quantile(0.975)) \n",
    "           | (df['ap_hi'] < df['ap_hi'].quantile(0.025))].index,inplace=True)\n",
    "df.drop(df[(df['ap_lo'] > df['ap_lo'].quantile(0.975)) \n",
    "           | (df['ap_lo'] < df['ap_lo'].quantile(0.025))].index,inplace=True)"
   ]
  },
  {
   "cell_type": "code",
   "execution_count": 13,
   "metadata": {},
   "outputs": [
    {
     "data": {
      "text/plain": [
       "(60142, 16)"
      ]
     },
     "execution_count": 13,
     "metadata": {},
     "output_type": "execute_result"
    }
   ],
   "source": [
    "df.shape"
   ]
  },
  {
   "cell_type": "code",
   "execution_count": 14,
   "metadata": {},
   "outputs": [
    {
     "data": {
      "image/png": "[encoded data removed]",
      "text/plain": [
       "<Figure size 432x288 with 16 Axes>"
      ]
     },
     "metadata": {
      "needs_background": "light"
     },
     "output_type": "display_data"
    }
   ],
   "source": [
    "# data contains a lot of binary features\n",
    "df.hist()\n",
    "plt.show()"
   ]
  },
  {
   "cell_type": "code",
   "execution_count": 15,
   "metadata": {},
   "outputs": [],
   "source": [
    "# new feature BMI index\n",
    "df['bmi'] = df['weight']/((df['height']/100)**2)"
   ]
  },
  {
   "cell_type": "code",
   "execution_count": 16,
   "metadata": {},
   "outputs": [
    {
     "data": {
      "text/html": [
       "<div>\n",
       "<style scoped>\n",
       "    .dataframe tbody tr th:only-of-type {\n",
       "        vertical-align: middle;\n",
       "    }\n",
       "\n",
       "    .dataframe tbody tr th {\n",
       "        vertical-align: top;\n",
       "    }\n",
       "\n",
       "    .dataframe thead th {\n",
       "        text-align: right;\n",
       "    }\n",
       "</style>\n",
       "<table border=\"1\" class=\"dataframe\">\n",
       "  <thead>\n",
       "    <tr style=\"text-align: right;\">\n",
       "      <th></th>\n",
       "      <th>age</th>\n",
       "      <th>gender</th>\n",
       "      <th>height</th>\n",
       "      <th>weight</th>\n",
       "      <th>ap_hi</th>\n",
       "      <th>ap_lo</th>\n",
       "      <th>smoke</th>\n",
       "      <th>alco</th>\n",
       "      <th>active</th>\n",
       "      <th>cardio</th>\n",
       "      <th>cholesterol_1</th>\n",
       "      <th>cholesterol_2</th>\n",
       "      <th>cholesterol_3</th>\n",
       "      <th>gluc_1</th>\n",
       "      <th>gluc_2</th>\n",
       "      <th>gluc_3</th>\n",
       "      <th>bmi</th>\n",
       "    </tr>\n",
       "  </thead>\n",
       "  <tbody>\n",
       "    <tr>\n",
       "      <td>0</td>\n",
       "      <td>18393</td>\n",
       "      <td>2</td>\n",
       "      <td>168</td>\n",
       "      <td>62.0</td>\n",
       "      <td>110</td>\n",
       "      <td>80</td>\n",
       "      <td>0</td>\n",
       "      <td>0</td>\n",
       "      <td>1</td>\n",
       "      <td>0</td>\n",
       "      <td>1</td>\n",
       "      <td>0</td>\n",
       "      <td>0</td>\n",
       "      <td>1</td>\n",
       "      <td>0</td>\n",
       "      <td>0</td>\n",
       "      <td>21.967120</td>\n",
       "    </tr>\n",
       "    <tr>\n",
       "      <td>1</td>\n",
       "      <td>20228</td>\n",
       "      <td>1</td>\n",
       "      <td>156</td>\n",
       "      <td>85.0</td>\n",
       "      <td>140</td>\n",
       "      <td>90</td>\n",
       "      <td>0</td>\n",
       "      <td>0</td>\n",
       "      <td>1</td>\n",
       "      <td>1</td>\n",
       "      <td>0</td>\n",
       "      <td>0</td>\n",
       "      <td>1</td>\n",
       "      <td>1</td>\n",
       "      <td>0</td>\n",
       "      <td>0</td>\n",
       "      <td>34.927679</td>\n",
       "    </tr>\n",
       "    <tr>\n",
       "      <td>2</td>\n",
       "      <td>18857</td>\n",
       "      <td>1</td>\n",
       "      <td>165</td>\n",
       "      <td>64.0</td>\n",
       "      <td>130</td>\n",
       "      <td>70</td>\n",
       "      <td>0</td>\n",
       "      <td>0</td>\n",
       "      <td>0</td>\n",
       "      <td>1</td>\n",
       "      <td>0</td>\n",
       "      <td>0</td>\n",
       "      <td>1</td>\n",
       "      <td>1</td>\n",
       "      <td>0</td>\n",
       "      <td>0</td>\n",
       "      <td>23.507805</td>\n",
       "    </tr>\n",
       "  </tbody>\n",
       "</table>\n",
       "</div>"
      ],
      "text/plain": [
       "     age  gender  height  weight  ap_hi  ap_lo  smoke  alco  active  cardio  \\\n",
       "0  18393       2     168    62.0    110     80      0     0       1       0   \n",
       "1  20228       1     156    85.0    140     90      0     0       1       1   \n",
       "2  18857       1     165    64.0    130     70      0     0       0       1   \n",
       "\n",
       "   cholesterol_1  cholesterol_2  cholesterol_3  gluc_1  gluc_2  gluc_3  \\\n",
       "0              1              0              0       1       0       0   \n",
       "1              0              0              1       1       0       0   \n",
       "2              0              0              1       1       0       0   \n",
       "\n",
       "         bmi  \n",
       "0  21.967120  \n",
       "1  34.927679  \n",
       "2  23.507805  "
      ]
     },
     "execution_count": 16,
     "metadata": {},
     "output_type": "execute_result"
    }
   ],
   "source": [
    "df.head(3)"
   ]
  },
  {
   "cell_type": "code",
   "execution_count": 17,
   "metadata": {},
   "outputs": [
    {
     "data": {
      "image/png": "[encoded data removed]",
      "text/plain": [
       "<Figure size 936x792 with 2 Axes>"
      ]
     },
     "metadata": {
      "needs_background": "light"
     },
     "output_type": "display_data"
    }
   ],
   "source": [
    "corr = df.corr()\n",
    "cmap = sns.diverging_palette(220,10,as_cmap=True)\n",
    "mask = np.zeros_like(corr,dtype=np.bool)\n",
    "mask[np.triu_indices_from(mask)]=True\n",
    "\n",
    "f, ax = plt.subplots(figsize=(13,11))\n",
    "sns.heatmap(corr,mask=mask,cmap=cmap,vmax=0.3,center=0,annot=True, \n",
    "            square=True,linewidth=0.5,cbar_kws={'shrink':0.5});\n",
    "\n",
    "# plt.savefig('correlation_heatmap.png')"
   ]
  },
  {
   "cell_type": "code",
   "execution_count": 18,
   "metadata": {},
   "outputs": [
    {
     "data": {
      "text/html": [
       "<div>\n",
       "<style scoped>\n",
       "    .dataframe tbody tr th:only-of-type {\n",
       "        vertical-align: middle;\n",
       "    }\n",
       "\n",
       "    .dataframe tbody tr th {\n",
       "        vertical-align: top;\n",
       "    }\n",
       "\n",
       "    .dataframe thead th {\n",
       "        text-align: right;\n",
       "    }\n",
       "</style>\n",
       "<table border=\"1\" class=\"dataframe\">\n",
       "  <thead>\n",
       "    <tr style=\"text-align: right;\">\n",
       "      <th></th>\n",
       "      <th>age</th>\n",
       "      <th>gender</th>\n",
       "      <th>height</th>\n",
       "      <th>weight</th>\n",
       "      <th>ap_hi</th>\n",
       "      <th>ap_lo</th>\n",
       "      <th>smoke</th>\n",
       "      <th>alco</th>\n",
       "      <th>active</th>\n",
       "      <th>cardio</th>\n",
       "      <th>cholesterol_1</th>\n",
       "      <th>cholesterol_2</th>\n",
       "      <th>cholesterol_3</th>\n",
       "      <th>gluc_1</th>\n",
       "      <th>gluc_2</th>\n",
       "      <th>gluc_3</th>\n",
       "      <th>bmi</th>\n",
       "    </tr>\n",
       "  </thead>\n",
       "  <tbody>\n",
       "    <tr>\n",
       "      <td>0</td>\n",
       "      <td>18393</td>\n",
       "      <td>2</td>\n",
       "      <td>168</td>\n",
       "      <td>62.0</td>\n",
       "      <td>110</td>\n",
       "      <td>80</td>\n",
       "      <td>0</td>\n",
       "      <td>0</td>\n",
       "      <td>1</td>\n",
       "      <td>0</td>\n",
       "      <td>1</td>\n",
       "      <td>0</td>\n",
       "      <td>0</td>\n",
       "      <td>1</td>\n",
       "      <td>0</td>\n",
       "      <td>0</td>\n",
       "      <td>21.967120</td>\n",
       "    </tr>\n",
       "    <tr>\n",
       "      <td>1</td>\n",
       "      <td>20228</td>\n",
       "      <td>1</td>\n",
       "      <td>156</td>\n",
       "      <td>85.0</td>\n",
       "      <td>140</td>\n",
       "      <td>90</td>\n",
       "      <td>0</td>\n",
       "      <td>0</td>\n",
       "      <td>1</td>\n",
       "      <td>1</td>\n",
       "      <td>0</td>\n",
       "      <td>0</td>\n",
       "      <td>1</td>\n",
       "      <td>1</td>\n",
       "      <td>0</td>\n",
       "      <td>0</td>\n",
       "      <td>34.927679</td>\n",
       "    </tr>\n",
       "    <tr>\n",
       "      <td>2</td>\n",
       "      <td>18857</td>\n",
       "      <td>1</td>\n",
       "      <td>165</td>\n",
       "      <td>64.0</td>\n",
       "      <td>130</td>\n",
       "      <td>70</td>\n",
       "      <td>0</td>\n",
       "      <td>0</td>\n",
       "      <td>0</td>\n",
       "      <td>1</td>\n",
       "      <td>0</td>\n",
       "      <td>0</td>\n",
       "      <td>1</td>\n",
       "      <td>1</td>\n",
       "      <td>0</td>\n",
       "      <td>0</td>\n",
       "      <td>23.507805</td>\n",
       "    </tr>\n",
       "  </tbody>\n",
       "</table>\n",
       "</div>"
      ],
      "text/plain": [
       "     age  gender  height  weight  ap_hi  ap_lo  smoke  alco  active  cardio  \\\n",
       "0  18393       2     168    62.0    110     80      0     0       1       0   \n",
       "1  20228       1     156    85.0    140     90      0     0       1       1   \n",
       "2  18857       1     165    64.0    130     70      0     0       0       1   \n",
       "\n",
       "   cholesterol_1  cholesterol_2  cholesterol_3  gluc_1  gluc_2  gluc_3  \\\n",
       "0              1              0              0       1       0       0   \n",
       "1              0              0              1       1       0       0   \n",
       "2              0              0              1       1       0       0   \n",
       "\n",
       "         bmi  \n",
       "0  21.967120  \n",
       "1  34.927679  \n",
       "2  23.507805  "
      ]
     },
     "execution_count": 18,
     "metadata": {},
     "output_type": "execute_result"
    }
   ],
   "source": [
    "df.head(3)"
   ]
  },
  {
   "cell_type": "code",
   "execution_count": 19,
   "metadata": {},
   "outputs": [],
   "source": [
    "y = df['cardio']\n",
    "X = df.drop('cardio',axis=1)"
   ]
  },
  {
   "cell_type": "code",
   "execution_count": 20,
   "metadata": {},
   "outputs": [
    {
     "data": {
      "text/plain": [
       "<matplotlib.axes._subplots.AxesSubplot at 0x1a1bbd9a50>"
      ]
     },
     "execution_count": 20,
     "metadata": {},
     "output_type": "execute_result"
    },
    {
     "data": {
      "image/png": "[encoded data removed]",
      "text/plain": [
       "<Figure size 432x288 with 1 Axes>"
      ]
     },
     "metadata": {
      "needs_background": "light"
     },
     "output_type": "display_data"
    }
   ],
   "source": [
    "sns.countplot(y)"
   ]
  },
  {
   "cell_type": "code",
   "execution_count": 21,
   "metadata": {},
   "outputs": [],
   "source": [
    "X_train,X_test,y_train,y_test = train_test_split(X,y,test_size=0.25,random_state=1)"
   ]
  },
  {
   "cell_type": "code",
   "execution_count": 22,
   "metadata": {},
   "outputs": [
    {
     "data": {
      "text/html": [
       "<div>\n",
       "<style scoped>\n",
       "    .dataframe tbody tr th:only-of-type {\n",
       "        vertical-align: middle;\n",
       "    }\n",
       "\n",
       "    .dataframe tbody tr th {\n",
       "        vertical-align: top;\n",
       "    }\n",
       "\n",
       "    .dataframe thead th {\n",
       "        text-align: right;\n",
       "    }\n",
       "</style>\n",
       "<table border=\"1\" class=\"dataframe\">\n",
       "  <thead>\n",
       "    <tr style=\"text-align: right;\">\n",
       "      <th></th>\n",
       "      <th>age</th>\n",
       "      <th>gender</th>\n",
       "      <th>height</th>\n",
       "      <th>weight</th>\n",
       "      <th>ap_hi</th>\n",
       "      <th>ap_lo</th>\n",
       "      <th>smoke</th>\n",
       "      <th>alco</th>\n",
       "      <th>active</th>\n",
       "      <th>cholesterol_1</th>\n",
       "      <th>cholesterol_2</th>\n",
       "      <th>cholesterol_3</th>\n",
       "      <th>gluc_1</th>\n",
       "      <th>gluc_2</th>\n",
       "      <th>gluc_3</th>\n",
       "      <th>bmi</th>\n",
       "    </tr>\n",
       "  </thead>\n",
       "  <tbody>\n",
       "    <tr>\n",
       "      <td>24746</td>\n",
       "      <td>19609</td>\n",
       "      <td>2</td>\n",
       "      <td>175</td>\n",
       "      <td>80.0</td>\n",
       "      <td>150</td>\n",
       "      <td>80</td>\n",
       "      <td>0</td>\n",
       "      <td>0</td>\n",
       "      <td>1</td>\n",
       "      <td>1</td>\n",
       "      <td>0</td>\n",
       "      <td>0</td>\n",
       "      <td>1</td>\n",
       "      <td>0</td>\n",
       "      <td>0</td>\n",
       "      <td>26.122449</td>\n",
       "    </tr>\n",
       "    <tr>\n",
       "      <td>19479</td>\n",
       "      <td>18387</td>\n",
       "      <td>1</td>\n",
       "      <td>160</td>\n",
       "      <td>70.0</td>\n",
       "      <td>150</td>\n",
       "      <td>90</td>\n",
       "      <td>0</td>\n",
       "      <td>0</td>\n",
       "      <td>1</td>\n",
       "      <td>1</td>\n",
       "      <td>0</td>\n",
       "      <td>0</td>\n",
       "      <td>1</td>\n",
       "      <td>0</td>\n",
       "      <td>0</td>\n",
       "      <td>27.343750</td>\n",
       "    </tr>\n",
       "    <tr>\n",
       "      <td>15537</td>\n",
       "      <td>18864</td>\n",
       "      <td>1</td>\n",
       "      <td>155</td>\n",
       "      <td>62.0</td>\n",
       "      <td>140</td>\n",
       "      <td>80</td>\n",
       "      <td>0</td>\n",
       "      <td>0</td>\n",
       "      <td>1</td>\n",
       "      <td>1</td>\n",
       "      <td>0</td>\n",
       "      <td>0</td>\n",
       "      <td>1</td>\n",
       "      <td>0</td>\n",
       "      <td>0</td>\n",
       "      <td>25.806452</td>\n",
       "    </tr>\n",
       "    <tr>\n",
       "      <td>39116</td>\n",
       "      <td>14473</td>\n",
       "      <td>2</td>\n",
       "      <td>180</td>\n",
       "      <td>74.0</td>\n",
       "      <td>140</td>\n",
       "      <td>89</td>\n",
       "      <td>0</td>\n",
       "      <td>0</td>\n",
       "      <td>0</td>\n",
       "      <td>1</td>\n",
       "      <td>0</td>\n",
       "      <td>0</td>\n",
       "      <td>1</td>\n",
       "      <td>0</td>\n",
       "      <td>0</td>\n",
       "      <td>22.839506</td>\n",
       "    </tr>\n",
       "    <tr>\n",
       "      <td>64308</td>\n",
       "      <td>21191</td>\n",
       "      <td>1</td>\n",
       "      <td>165</td>\n",
       "      <td>95.0</td>\n",
       "      <td>130</td>\n",
       "      <td>90</td>\n",
       "      <td>0</td>\n",
       "      <td>0</td>\n",
       "      <td>0</td>\n",
       "      <td>0</td>\n",
       "      <td>0</td>\n",
       "      <td>1</td>\n",
       "      <td>0</td>\n",
       "      <td>0</td>\n",
       "      <td>1</td>\n",
       "      <td>34.894399</td>\n",
       "    </tr>\n",
       "  </tbody>\n",
       "</table>\n",
       "</div>"
      ],
      "text/plain": [
       "         age  gender  height  weight  ap_hi  ap_lo  smoke  alco  active  \\\n",
       "24746  19609       2     175    80.0    150     80      0     0       1   \n",
       "19479  18387       1     160    70.0    150     90      0     0       1   \n",
       "15537  18864       1     155    62.0    140     80      0     0       1   \n",
       "39116  14473       2     180    74.0    140     89      0     0       0   \n",
       "64308  21191       1     165    95.0    130     90      0     0       0   \n",
       "\n",
       "       cholesterol_1  cholesterol_2  cholesterol_3  gluc_1  gluc_2  gluc_3  \\\n",
       "24746              1              0              0       1       0       0   \n",
       "19479              1              0              0       1       0       0   \n",
       "15537              1              0              0       1       0       0   \n",
       "39116              1              0              0       1       0       0   \n",
       "64308              0              0              1       0       0       1   \n",
       "\n",
       "             bmi  \n",
       "24746  26.122449  \n",
       "19479  27.343750  \n",
       "15537  25.806452  \n",
       "39116  22.839506  \n",
       "64308  34.894399  "
      ]
     },
     "execution_count": 22,
     "metadata": {},
     "output_type": "execute_result"
    }
   ],
   "source": [
    "X_train.head()"
   ]
  },
  {
   "cell_type": "code",
   "execution_count": 23,
   "metadata": {},
   "outputs": [],
   "source": [
    "# feature scaling\n",
    "# scaled only continuous values\n",
    "ss = StandardScaler()\n",
    "X_train[['age','height','weight','ap_hi','ap_lo','bmi']] = ss.fit_transform(X_train[['age','height','weight','ap_hi','ap_lo','bmi']])\n",
    "X_test[['age','height','weight','ap_hi','ap_lo','bmi']] = ss.fit_transform(X_test[['age','height','weight','ap_hi','ap_lo','bmi']])"
   ]
  },
  {
   "cell_type": "code",
   "execution_count": 24,
   "metadata": {},
   "outputs": [
    {
     "name": "stdout",
     "output_type": "stream",
     "text": [
      "Best Penalty: l1\n",
      "Best C: 1\n",
      "Precision 0.6516084873374401\n",
      "Accuracy 0.7218675179569034\n",
      "AUC_ROC 0.7247522572825992\n",
      "[[6094 1637]\n",
      " [2545 4760]]\n"
     ]
    }
   ],
   "source": [
    "# logistic regression\n",
    "\n",
    "logistic = LogisticRegression(random_state=12345)\n",
    "hyperparameters = {'penalty':('l1','l2'),'C':[1,3]}\n",
    "clf = GridSearchCV(logistic, hyperparameters, cv=3, verbose=0)\n",
    "best_model = clf.fit(X_train, y_train)\n",
    "\n",
    "print('Best Penalty:', best_model.best_estimator_.get_params()['penalty'])\n",
    "print('Best C:', best_model.best_estimator_.get_params()['C'])\n",
    "\n",
    "y_pred = best_model.predict(X_test)\n",
    "y_hat_proba = best_model.predict_proba(X_test)[:,1]\n",
    "\n",
    "cm = confusion_matrix(y_test,y_pred)\n",
    "print('Precision',precision_score(y_pred,y_test))\n",
    "print('Accuracy', accuracy_score(y_test,y_pred))\n",
    "print('AUC_ROC',roc_auc_score(y_pred,y_test))\n",
    "print(cm)"
   ]
  },
  {
   "cell_type": "code",
   "execution_count": 25,
   "metadata": {},
   "outputs": [
    {
     "name": "stdout",
     "output_type": "stream",
     "text": [
      "Best Citerion: entropy\n",
      "Best Num Split: 2\n",
      "Best Depth: 5\n",
      "Precision 0.6453114305270363\n",
      "Accuracy 0.7222000532056398\n",
      "AUC_ROC 0.7258325702075702\n",
      "[[6145 1586]\n",
      " [2591 4714]]\n",
      "0.999534486021977\n"
     ]
    }
   ],
   "source": [
    "# decision tree \n",
    "dt = DecisionTreeClassifier(random_state=12345)\n",
    "hyperparameters = {'criterion':('entropy','gini'),'min_samples_split':range(2,10,2),'max_depth':range(1,10,2)}\n",
    "clf = GridSearchCV(dt, hyperparameters, cv=3, verbose=0)\n",
    "best_model = clf.fit(X_train, y_train)\n",
    "\n",
    "print('Best Citerion:', best_model.best_estimator_.get_params()['criterion'])\n",
    "print('Best Num Split:', best_model.best_estimator_.get_params()['min_samples_split'])\n",
    "print('Best Depth:', best_model.best_estimator_.get_params()['max_depth'])\n",
    "\n",
    "y_pred = best_model.predict(X_test)\n",
    "y_hat_proba = best_model.predict_proba(X_test)[:,1]\n",
    "\n",
    "scores = cross_val_score(best_model,X_test,y_pred, cv=5)\n",
    "cm = confusion_matrix(y_test,y_pred)\n",
    "\n",
    "print('Precision',precision_score(y_pred,y_test))\n",
    "print('Accuracy', accuracy_score(y_test,y_pred))\n",
    "print('AUC_ROC',roc_auc_score(y_pred,y_test))\n",
    "print(cm)\n",
    "print(scores.mean())"
   ]
  },
  {
   "cell_type": "code",
   "execution_count": 27,
   "metadata": {},
   "outputs": [
    {
     "name": "stdout",
     "output_type": "stream",
     "text": [
      "Precision 0.5757700205338809\n",
      "Accuracy 0.6816307528598031\n",
      "AUC_ROC 0.687311076595141\n",
      "[[6043 1688]\n",
      " [3099 4206]]\n"
     ]
    }
   ],
   "source": [
    "# Naive Bayes\n",
    "nb = GaussianNB()\n",
    "nb.fit(X_train,y_train)\n",
    "y_pred = nb.predict(X_test)\n",
    "\n",
    "cm = confusion_matrix(y_test,y_pred)\n",
    "print('Precision',precision_score(y_pred,y_test))\n",
    "print('Accuracy', accuracy_score(y_test,y_pred))\n",
    "print('AUC_ROC',roc_auc_score(y_pred,y_test))\n",
    "print(cm)"
   ]
  },
  {
   "cell_type": "code",
   "execution_count": 28,
   "metadata": {},
   "outputs": [
    {
     "name": "stdout",
     "output_type": "stream",
     "text": [
      "Best Penalty: l1\n",
      "Best C: 1\n",
      "Precision 0.655441478439425\n",
      "Accuracy 0.7218675179569034\n",
      "AUC_ROC 0.7243631836212187\n",
      "0.9986699473393639\n",
      "[[6066 1665]\n",
      " [2517 4788]]\n"
     ]
    }
   ],
   "source": [
    "# SVM class_weight = balanced\n",
    "svm = LinearSVC(dual=False,class_weight='balanced',random_state=12345)\n",
    "hyperparameters = {'penalty':('l1','l2'),\n",
    "                   'C':[1,3]}\n",
    "\n",
    "clf = GridSearchCV(svm, hyperparameters, cv=5, verbose=0)\n",
    "best_model = clf.fit(X_train, y_train)\n",
    "\n",
    "print('Best Penalty:', best_model.best_estimator_.get_params()['penalty'])\n",
    "print('Best C:', best_model.best_estimator_.get_params()['C'])\n",
    "\n",
    "y_pred = best_model.predict(X_test)\n",
    "# y_hat_proba = best_model.predict_proba(X_test)[:,1]\n",
    "\n",
    "cm = confusion_matrix(y_test,y_pred)\n",
    "scores = cross_val_score(best_model,X_test,y_pred, cv= 5)\n",
    "\n",
    "print('Precision',precision_score(y_pred,y_test))\n",
    "print('Accuracy', accuracy_score(y_test,y_pred))\n",
    "print('AUC_ROC',roc_auc_score(y_pred,y_test))\n",
    "print(scores.mean())\n",
    "print(cm)"
   ]
  },
  {
   "cell_type": "code",
   "execution_count": 29,
   "metadata": {},
   "outputs": [
    {
     "name": "stdout",
     "output_type": "stream",
     "text": [
      "Best Penalty: l1\n",
      "Best C: 1\n",
      "Precision 0.642984257357974\n",
      "Accuracy 0.7220670391061452\n",
      "AUC_ROC 0.7259582912161878\n",
      "0.9987363482255347\n",
      "[[6160 1571]\n",
      " [2608 4697]]\n"
     ]
    }
   ],
   "source": [
    "# SVM , class_weight = 1\n",
    "svm = LinearSVC(dual=False,random_state=12345)\n",
    "hyperparameters = {'penalty':('l1','l2'),\n",
    "                   'C':[1,3]}\n",
    "\n",
    "clf = GridSearchCV(svm, hyperparameters, cv=5, verbose=0)\n",
    "best_model = clf.fit(X_train, y_train)\n",
    "\n",
    "print('Best Penalty:', best_model.best_estimator_.get_params()['penalty'])\n",
    "print('Best C:', best_model.best_estimator_.get_params()['C'])\n",
    "\n",
    "y_pred = best_model.predict(X_test)\n",
    "# y_hat_proba = best_model.predict_proba(X_test)[:,1]\n",
    "\n",
    "cm = confusion_matrix(y_test,y_pred)\n",
    "scores = cross_val_score(best_model,X_test,y_pred, cv= 5)\n",
    "\n",
    "print('Precision',precision_score(y_pred,y_test))\n",
    "print('Accuracy', accuracy_score(y_test,y_pred))\n",
    "print('AUC_ROC',roc_auc_score(y_pred,y_test))\n",
    "print(scores.mean())\n",
    "print(cm)"
   ]
  },
  {
   "cell_type": "code",
   "execution_count": 30,
   "metadata": {},
   "outputs": [
    {
     "name": "stdout",
     "output_type": "stream",
     "text": [
      "Best Loss: log\n",
      "Best penalty: l1\n",
      "Best learning_rate: invscaling\n",
      "Precision 0.6395619438740588\n",
      "Accuracy 0.7195397712157489\n",
      "AUC_ROC 0.7234584821350547\n",
      "0.9986033253967692\n",
      "[[6147 1584]\n",
      " [2633 4672]]\n"
     ]
    }
   ],
   "source": [
    "# SVM - SGDClassifier \n",
    "svm = SGDClassifier(eta0=1,random_state=12345)\n",
    "hyperparameters = {'loss':('log','perceptron'),\n",
    "                   'penalty':('l1','l2','elasticnet'),\n",
    "                   'learning_rate':('constant','optimal','invscaling','adaptive')}\n",
    "clf = GridSearchCV(svm, hyperparameters, cv=5, verbose=0)\n",
    "best_model = clf.fit(X_train, y_train)\n",
    "\n",
    "print('Best Loss:', best_model.best_estimator_.get_params()['loss'])\n",
    "print('Best penalty:', best_model.best_estimator_.get_params()['penalty'])\n",
    "print('Best learning_rate:', best_model.best_estimator_.get_params()['learning_rate'])\n",
    "\n",
    "y_pred = best_model.predict(X_test)\n",
    "# y_hat_proba = best_model.predict_proba(X_test)[:,1]\n",
    "\n",
    "cm = confusion_matrix(y_test,y_pred)\n",
    "scores = cross_val_score(best_model,X_test,y_pred, cv= 5)\n",
    "\n",
    "print('Precision',precision_score(y_pred,y_test))\n",
    "print('Accuracy', accuracy_score(y_test,y_pred))\n",
    "print('AUC_ROC',roc_auc_score(y_pred,y_test))\n",
    "print(scores.mean())\n",
    "print(cm)"
   ]
  },
  {
   "cell_type": "code",
   "execution_count": 33,
   "metadata": {},
   "outputs": [
    {
     "name": "stdout",
     "output_type": "stream",
     "text": [
      "Best K_value: 9\n",
      "Best p: 1\n",
      "Precision 0.6707734428473648\n",
      "Accuracy 0.7051077414205906\n",
      "AUC_ROC 0.7052577711911098\n",
      "[[5702 2029]\n",
      " [2405 4900]]\n",
      "0.8795562297561688\n"
     ]
    }
   ],
   "source": [
    "knn = KNeighborsClassifier(metric='minkowski',weights='uniform')\n",
    "hyperparameters = {'n_neighbors':range(3,10,1), 'p':[1,2]}\n",
    "clf = GridSearchCV(knn, hyperparameters, cv=5, verbose=0,n_jobs=-1)\n",
    "best_model = clf.fit(X_train, y_train)\n",
    "\n",
    "print('Best K_value:', best_model.best_estimator_.get_params()['n_neighbors'])\n",
    "print('Best p:', best_model.best_estimator_.get_params()['p'])\n",
    "\n",
    "y_pred = best_model.predict(X_test)\n",
    "y_hat_proba = best_model.predict_proba(X_test)[:,1]\n",
    "\n",
    "scores = cross_val_score(best_model,X_test,y_pred, cv= 5)\n",
    "cm = confusion_matrix(y_test,y_pred)\n",
    "print('Precision',precision_score(y_pred,y_test))\n",
    "print('Accuracy', accuracy_score(y_test,y_pred))\n",
    "print('AUC_ROC',roc_auc_score(y_pred,y_test))\n",
    "print(cm)\n",
    "print(scores.mean())"
   ]
  },
  {
   "cell_type": "code",
   "execution_count": null,
   "metadata": {},
   "outputs": [],
   "source": []
  },
  {
   "cell_type": "code",
   "execution_count": 35,
   "metadata": {},
   "outputs": [
    {
     "name": "stdout",
     "output_type": "stream",
     "text": [
      "Best Citerion: entropy\n",
      "Best n_estimator: 18\n",
      "Best min_sample_splits: 4\n",
      "Best max_depth: 9\n",
      "Precision 0.6424366872005476\n",
      "Accuracy 0.7258579409417398\n",
      "AUC_ROC 0.7304300649271518\n",
      "[[6221 1510]\n",
      " [2612 4693]]\n",
      "0.9721342333064367\n"
     ]
    }
   ],
   "source": [
    "# random forest\n",
    "rf = RandomForestClassifier()\n",
    "hyperparameters = {'n_estimators':range(10,20,2), \n",
    "                   'criterion':('entropy','gini'),\n",
    "                   'max_depth':range(1,10,2),\n",
    "                   'min_samples_split':range(2,10,1)}\n",
    "\n",
    "clf = GridSearchCV(rf, hyperparameters, cv=5, verbose=0,n_jobs=-1)\n",
    "best_model = clf.fit(X_train, y_train)\n",
    "\n",
    "print('Best Citerion:', best_model.best_estimator_.get_params()['criterion'])\n",
    "print('Best n_estimator:', best_model.best_estimator_.get_params()['n_estimators'])\n",
    "print('Best min_sample_splits:', best_model.best_estimator_.get_params()['min_samples_split'])\n",
    "print('Best max_depth:', best_model.best_estimator_.get_params()['max_depth'])\n",
    "\n",
    "y_pred = best_model.predict(X_test)\n",
    "y_hat_proba = best_model.predict_proba(X_test)[:,1]\n",
    "\n",
    "scores = cross_val_score(best_model,X_test,y_pred, cv= 5)\n",
    "cm = confusion_matrix(y_test,y_pred)\n",
    "\n",
    "print('Precision',precision_score(y_pred,y_test))\n",
    "print('Accuracy', accuracy_score(y_test,y_pred))\n",
    "print('AUC_ROC',roc_auc_score(y_pred,y_test))\n",
    "print(cm)\n",
    "print(scores.mean())"
   ]
  },
  {
   "cell_type": "code",
   "execution_count": 36,
   "metadata": {},
   "outputs": [
    {
     "name": "stdout",
     "output_type": "stream",
     "text": [
      "Best Citerion: gini\n",
      "Best n_estimator: 18\n",
      "Best min_sample_splits: 3\n",
      "Best max_depth: 9\n",
      "Precision 0.6516084873374401\n",
      "Accuracy 0.7239292364990689\n",
      "AUC_ROC 0.7270906643968226\n",
      "[[6125 1606]\n",
      " [2545 4760]]\n",
      "0.9721342333064367\n"
     ]
    }
   ],
   "source": [
    "from sklearn.ensemble import ExtraTreesClassifier\n",
    "\n",
    "extra_clf = ExtraTreesClassifier()\n",
    "hyperparameters = {'n_estimators':range(10,20,2), \n",
    "                   'criterion':('entropy','gini'),\n",
    "                   'max_depth':range(1,10,2),\n",
    "                   'min_samples_split':range(2,10,1)}\n",
    "\n",
    "clf = GridSearchCV(extra_clf, hyperparameters, cv=5, verbose=0,n_jobs=-1)\n",
    "best_model = clf.fit(X_train, y_train)\n",
    "\n",
    "print('Best Citerion:', best_model.best_estimator_.get_params()['criterion'])\n",
    "print('Best n_estimator:', best_model.best_estimator_.get_params()['n_estimators'])\n",
    "print('Best min_sample_splits:', best_model.best_estimator_.get_params()['min_samples_split'])\n",
    "print('Best max_depth:', best_model.best_estimator_.get_params()['max_depth'])\n",
    "\n",
    "y_pred = best_model.predict(X_test)\n",
    "\n",
    "cross_val_score(best_model,X_test,y_pred, cv= 5)\n",
    "cm = confusion_matrix(y_test,y_pred)\n",
    "\n",
    "print('Precision',precision_score(y_pred,y_test))\n",
    "print('Accuracy', accuracy_score(y_test,y_pred))\n",
    "print('AUC_ROC',roc_auc_score(y_pred,y_test))\n",
    "print(cm)\n",
    "print(scores.mean())"
   ]
  },
  {
   "cell_type": "code",
   "execution_count": 40,
   "metadata": {},
   "outputs": [
    {
     "name": "stdout",
     "output_type": "stream",
     "text": [
      "[[6125 1606]\n",
      " [2545 4760]]\n",
      "0.9721342333064367\n",
      "Precision 0.6265571526351814\n",
      "Accuracy 0.7214019686086726\n",
      "AUC_ROC 0.7274269884861241\n"
     ]
    }
   ],
   "source": [
    "# adaboost\n",
    "from sklearn.ensemble import AdaBoostClassifier\n",
    "\n",
    "ada_boost = AdaBoostClassifier(learning_rate=0.99)\n",
    "hyperparameters = {'n_estimators':range(100,200,10)}\n",
    "clf = GridSearchCV(ada_boost, hyperparameters, cv=5, verbose=0,n_jobs=-1)\n",
    "best_model = clf.fit(X_train, y_train)\n",
    "\n",
    "# print('Best n_estimator:', best_model.best_estimator_.get_params()['n_estimators'])\n",
    "# print('Best criterion:', best_model.best_estimator_.get_params()['criterion'])\n",
    "\n",
    "\n",
    "y_pred = best_model.predict(X_test)\n",
    "cross_val_score(best_model,X_test,y_pred, cv= 5)\n",
    "\n",
    "print(cm)\n",
    "print(scores.mean())\n",
    "print('Precision',precision_score(y_pred,y_test))\n",
    "print('Accuracy', accuracy_score(y_test,y_pred))\n",
    "print('AUC_ROC',roc_auc_score(y_pred,y_test))"
   ]
  },
  {
   "cell_type": "code",
   "execution_count": null,
   "metadata": {},
   "outputs": [],
   "source": [
    "# from sklearn.ensemble import VotingClassifier\n",
    "# X = X_train\n",
    "# y = y_train\n",
    "\n",
    "# vclf = VotingClassifier(estimators=[('lr',logistic_clf),('dt',dt),('nb',nb),('svm',svm),\n",
    "#                                     ('rf',rf),('knn',knn),('adaboost',ada_boost)],voting='hard')\n",
    "# for clf, label in zip([logistic_clf,dt,nb,svm,rf,knn,ada_boost],\n",
    "#                       ['Logistic Regression','Decision Tree','Naive Bayes','SVM',\n",
    "#                        'Random Forest','KNN','Ada Boost']):\n",
    "#     scores = cross_val_score(clf,X_train,y_train,cv=7,scoring='accuracy')\n",
    "#     print('Accuracy: %0.2f(+/- %0.2f)[%s]' % (scores.mean(),scores.std(),label))"
   ]
  },
  {
   "cell_type": "code",
   "execution_count": null,
   "metadata": {},
   "outputs": [],
   "source": []
  }
 ],
 "metadata": {
  "kernelspec": {
   "display_name": "Python 3",
   "language": "python",
   "name": "python3"
  },
  "language_info": {
   "codemirror_mode": {
    "name": "ipython",
    "version": 3
   },
   "file_extension": ".py",
   "mimetype": "text/x-python",
   "name": "python",
   "nbconvert_exporter": "python",
   "pygments_lexer": "ipython3",
   "version": "3.7.4"
  }
 },
 "nbformat": 4,
 "nbformat_minor": 4
}
